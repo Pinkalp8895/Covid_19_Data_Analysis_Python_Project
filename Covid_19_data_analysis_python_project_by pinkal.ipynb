{
  "nbformat": 4,
  "nbformat_minor": 0,
  "metadata": {
    "colab": {
      "provenance": []
    },
    "kernelspec": {
      "name": "python3",
      "display_name": "Python 3"
    },
    "language_info": {
      "name": "python"
    }
  },
  "cells": [
    {
      "cell_type": "markdown",
      "source": [
        "**Covid_19_analysis_python_project**"
      ],
      "metadata": {
        "id": "OIqqKgmwNyXo"
      }
    },
    {
      "cell_type": "code",
      "source": [
        "#Import libraries\n",
        "import pandas as pd\n",
        "import matplotlib.pyplot as plt\n",
        "import seaborn as sns"
      ],
      "metadata": {
        "id": "UxVHOgHW22DB"
      },
      "execution_count": null,
      "outputs": []
    },
    {
      "cell_type": "code",
      "source": [
        "#Mount google drive with colab\n",
        "from google.colab import drive\n",
        "drive.mount('/content/drive')\n",
        "\n"
      ],
      "metadata": {
        "colab": {
          "base_uri": "https://localhost:8080/"
        },
        "id": "nAU71Iu43pNn",
        "outputId": "abe14ed3-9d97-416f-c13d-1600101d42cd"
      },
      "execution_count": null,
      "outputs": [
        {
          "output_type": "stream",
          "name": "stdout",
          "text": [
            "Drive already mounted at /content/drive; to attempt to forcibly remount, call drive.mount(\"/content/drive\", force_remount=True).\n"
          ]
        }
      ]
    },
    {
      "cell_type": "code",
      "source": [
        "#Read data in CSV format\n",
        "df1=pd.read_csv(\"/content/drive/MyDrive/Python/raw_data.csv\")\n",
        "df2=pd.read_csv(\"/content/drive/MyDrive/Python/transformed_data.csv\")\n"
      ],
      "metadata": {
        "id": "bifeapjs5Xsh"
      },
      "execution_count": null,
      "outputs": []
    },
    {
      "cell_type": "code",
      "source": [
        "#reset_index() function will create a new column named as index\n",
        "#use inplace to save the index as a new column\n",
        "\n",
        "df1.reset_index(inplace=True)"
      ],
      "metadata": {
        "id": "MMQGS_D5d7QA"
      },
      "execution_count": null,
      "outputs": []
    },
    {
      "cell_type": "code",
      "source": [
        "df2.reset_index(inplace=True)"
      ],
      "metadata": {
        "id": "itieSNdheBC1"
      },
      "execution_count": null,
      "outputs": []
    },
    {
      "cell_type": "code",
      "source": [
        "#Merge two dataframes into a single dataframes\n",
        "final_df=df1.merge(df2,how='left',on='index')\n",
        "\n",
        "#OR\n",
        "#final_df=pd.merge(df1,df2,how=\"left\",left_index=True,right_index=True)"
      ],
      "metadata": {
        "id": "Mv911_LcT7-X"
      },
      "execution_count": null,
      "outputs": []
    },
    {
      "cell_type": "markdown",
      "source": [
        "**1. Prepare data for analysis**"
      ],
      "metadata": {
        "id": "mWfVGoa72PWe"
      }
    },
    {
      "cell_type": "markdown",
      "source": [
        "**Data Exploration**"
      ],
      "metadata": {
        "id": "Axr5NOIkahxX"
      }
    },
    {
      "cell_type": "code",
      "source": [
        "# Preview first 5 rows of data set\n",
        "final_df.head()"
      ],
      "metadata": {
        "colab": {
          "base_uri": "https://localhost:8080/",
          "height": 359
        },
        "id": "mhemvfz9atMx",
        "outputId": "3d903d65-5a2d-4812-c308-847050839e6f"
      },
      "execution_count": null,
      "outputs": [
        {
          "output_type": "execute_result",
          "data": {
            "text/plain": [
              "   index iso_code     location        date  total_cases  total_deaths  \\\n",
              "0      0      AFG  Afghanistan  2019-12-31          0.0           0.0   \n",
              "1      1      AFG  Afghanistan  2020-01-01          0.0           0.0   \n",
              "2      2      AFG  Afghanistan  2020-01-02          0.0           0.0   \n",
              "3      3      AFG  Afghanistan  2020-01-03          0.0           0.0   \n",
              "4      4      AFG  Afghanistan  2020-01-04          0.0           0.0   \n",
              "\n",
              "   stringency_index  population  gdp_per_capita  human_development_index  ...  \\\n",
              "0               0.0    38928341        1803.987                    0.498  ...   \n",
              "1               0.0    38928341        1803.987                    0.498  ...   \n",
              "2               0.0    38928341        1803.987                    0.498  ...   \n",
              "3               0.0    38928341        1803.987                    0.498  ...   \n",
              "4               0.0    38928341        1803.987                    0.498  ...   \n",
              "\n",
              "   Unnamed: 13 CODE      COUNTRY        DATE    HDI   TC   TD  STI        POP  \\\n",
              "0  7.497754494  AFG  Afghanistan  2019-12-31  0.498  0.0  0.0  0.0  17.477233   \n",
              "1  7.497754494  AFG  Afghanistan  2020-01-01  0.498  0.0  0.0  0.0  17.477233   \n",
              "2  7.497754494  AFG  Afghanistan  2020-01-02  0.498  0.0  0.0  0.0  17.477233   \n",
              "3  7.497754494  AFG  Afghanistan  2020-01-03  0.498  0.0  0.0  0.0  17.477233   \n",
              "4  7.497754494  AFG  Afghanistan  2020-01-04  0.498  0.0  0.0  0.0  17.477233   \n",
              "\n",
              "     GDPCAP  \n",
              "0  7.497754  \n",
              "1  7.497754  \n",
              "2  7.497754  \n",
              "3  7.497754  \n",
              "4  7.497754  \n",
              "\n",
              "[5 rows x 24 columns]"
            ],
            "text/html": [
              "\n",
              "  <div id=\"df-29de3979-055e-4170-900f-99ab8e08c353\" class=\"colab-df-container\">\n",
              "    <div>\n",
              "<style scoped>\n",
              "    .dataframe tbody tr th:only-of-type {\n",
              "        vertical-align: middle;\n",
              "    }\n",
              "\n",
              "    .dataframe tbody tr th {\n",
              "        vertical-align: top;\n",
              "    }\n",
              "\n",
              "    .dataframe thead th {\n",
              "        text-align: right;\n",
              "    }\n",
              "</style>\n",
              "<table border=\"1\" class=\"dataframe\">\n",
              "  <thead>\n",
              "    <tr style=\"text-align: right;\">\n",
              "      <th></th>\n",
              "      <th>index</th>\n",
              "      <th>iso_code</th>\n",
              "      <th>location</th>\n",
              "      <th>date</th>\n",
              "      <th>total_cases</th>\n",
              "      <th>total_deaths</th>\n",
              "      <th>stringency_index</th>\n",
              "      <th>population</th>\n",
              "      <th>gdp_per_capita</th>\n",
              "      <th>human_development_index</th>\n",
              "      <th>...</th>\n",
              "      <th>Unnamed: 13</th>\n",
              "      <th>CODE</th>\n",
              "      <th>COUNTRY</th>\n",
              "      <th>DATE</th>\n",
              "      <th>HDI</th>\n",
              "      <th>TC</th>\n",
              "      <th>TD</th>\n",
              "      <th>STI</th>\n",
              "      <th>POP</th>\n",
              "      <th>GDPCAP</th>\n",
              "    </tr>\n",
              "  </thead>\n",
              "  <tbody>\n",
              "    <tr>\n",
              "      <th>0</th>\n",
              "      <td>0</td>\n",
              "      <td>AFG</td>\n",
              "      <td>Afghanistan</td>\n",
              "      <td>2019-12-31</td>\n",
              "      <td>0.0</td>\n",
              "      <td>0.0</td>\n",
              "      <td>0.0</td>\n",
              "      <td>38928341</td>\n",
              "      <td>1803.987</td>\n",
              "      <td>0.498</td>\n",
              "      <td>...</td>\n",
              "      <td>7.497754494</td>\n",
              "      <td>AFG</td>\n",
              "      <td>Afghanistan</td>\n",
              "      <td>2019-12-31</td>\n",
              "      <td>0.498</td>\n",
              "      <td>0.0</td>\n",
              "      <td>0.0</td>\n",
              "      <td>0.0</td>\n",
              "      <td>17.477233</td>\n",
              "      <td>7.497754</td>\n",
              "    </tr>\n",
              "    <tr>\n",
              "      <th>1</th>\n",
              "      <td>1</td>\n",
              "      <td>AFG</td>\n",
              "      <td>Afghanistan</td>\n",
              "      <td>2020-01-01</td>\n",
              "      <td>0.0</td>\n",
              "      <td>0.0</td>\n",
              "      <td>0.0</td>\n",
              "      <td>38928341</td>\n",
              "      <td>1803.987</td>\n",
              "      <td>0.498</td>\n",
              "      <td>...</td>\n",
              "      <td>7.497754494</td>\n",
              "      <td>AFG</td>\n",
              "      <td>Afghanistan</td>\n",
              "      <td>2020-01-01</td>\n",
              "      <td>0.498</td>\n",
              "      <td>0.0</td>\n",
              "      <td>0.0</td>\n",
              "      <td>0.0</td>\n",
              "      <td>17.477233</td>\n",
              "      <td>7.497754</td>\n",
              "    </tr>\n",
              "    <tr>\n",
              "      <th>2</th>\n",
              "      <td>2</td>\n",
              "      <td>AFG</td>\n",
              "      <td>Afghanistan</td>\n",
              "      <td>2020-01-02</td>\n",
              "      <td>0.0</td>\n",
              "      <td>0.0</td>\n",
              "      <td>0.0</td>\n",
              "      <td>38928341</td>\n",
              "      <td>1803.987</td>\n",
              "      <td>0.498</td>\n",
              "      <td>...</td>\n",
              "      <td>7.497754494</td>\n",
              "      <td>AFG</td>\n",
              "      <td>Afghanistan</td>\n",
              "      <td>2020-01-02</td>\n",
              "      <td>0.498</td>\n",
              "      <td>0.0</td>\n",
              "      <td>0.0</td>\n",
              "      <td>0.0</td>\n",
              "      <td>17.477233</td>\n",
              "      <td>7.497754</td>\n",
              "    </tr>\n",
              "    <tr>\n",
              "      <th>3</th>\n",
              "      <td>3</td>\n",
              "      <td>AFG</td>\n",
              "      <td>Afghanistan</td>\n",
              "      <td>2020-01-03</td>\n",
              "      <td>0.0</td>\n",
              "      <td>0.0</td>\n",
              "      <td>0.0</td>\n",
              "      <td>38928341</td>\n",
              "      <td>1803.987</td>\n",
              "      <td>0.498</td>\n",
              "      <td>...</td>\n",
              "      <td>7.497754494</td>\n",
              "      <td>AFG</td>\n",
              "      <td>Afghanistan</td>\n",
              "      <td>2020-01-03</td>\n",
              "      <td>0.498</td>\n",
              "      <td>0.0</td>\n",
              "      <td>0.0</td>\n",
              "      <td>0.0</td>\n",
              "      <td>17.477233</td>\n",
              "      <td>7.497754</td>\n",
              "    </tr>\n",
              "    <tr>\n",
              "      <th>4</th>\n",
              "      <td>4</td>\n",
              "      <td>AFG</td>\n",
              "      <td>Afghanistan</td>\n",
              "      <td>2020-01-04</td>\n",
              "      <td>0.0</td>\n",
              "      <td>0.0</td>\n",
              "      <td>0.0</td>\n",
              "      <td>38928341</td>\n",
              "      <td>1803.987</td>\n",
              "      <td>0.498</td>\n",
              "      <td>...</td>\n",
              "      <td>7.497754494</td>\n",
              "      <td>AFG</td>\n",
              "      <td>Afghanistan</td>\n",
              "      <td>2020-01-04</td>\n",
              "      <td>0.498</td>\n",
              "      <td>0.0</td>\n",
              "      <td>0.0</td>\n",
              "      <td>0.0</td>\n",
              "      <td>17.477233</td>\n",
              "      <td>7.497754</td>\n",
              "    </tr>\n",
              "  </tbody>\n",
              "</table>\n",
              "<p>5 rows × 24 columns</p>\n",
              "</div>\n",
              "    <div class=\"colab-df-buttons\">\n",
              "\n",
              "  <div class=\"colab-df-container\">\n",
              "    <button class=\"colab-df-convert\" onclick=\"convertToInteractive('df-29de3979-055e-4170-900f-99ab8e08c353')\"\n",
              "            title=\"Convert this dataframe to an interactive table.\"\n",
              "            style=\"display:none;\">\n",
              "\n",
              "  <svg xmlns=\"http://www.w3.org/2000/svg\" height=\"24px\" viewBox=\"0 -960 960 960\">\n",
              "    <path d=\"M120-120v-720h720v720H120Zm60-500h600v-160H180v160Zm220 220h160v-160H400v160Zm0 220h160v-160H400v160ZM180-400h160v-160H180v160Zm440 0h160v-160H620v160ZM180-180h160v-160H180v160Zm440 0h160v-160H620v160Z\"/>\n",
              "  </svg>\n",
              "    </button>\n",
              "\n",
              "  <style>\n",
              "    .colab-df-container {\n",
              "      display:flex;\n",
              "      gap: 12px;\n",
              "    }\n",
              "\n",
              "    .colab-df-convert {\n",
              "      background-color: #E8F0FE;\n",
              "      border: none;\n",
              "      border-radius: 50%;\n",
              "      cursor: pointer;\n",
              "      display: none;\n",
              "      fill: #1967D2;\n",
              "      height: 32px;\n",
              "      padding: 0 0 0 0;\n",
              "      width: 32px;\n",
              "    }\n",
              "\n",
              "    .colab-df-convert:hover {\n",
              "      background-color: #E2EBFA;\n",
              "      box-shadow: 0px 1px 2px rgba(60, 64, 67, 0.3), 0px 1px 3px 1px rgba(60, 64, 67, 0.15);\n",
              "      fill: #174EA6;\n",
              "    }\n",
              "\n",
              "    .colab-df-buttons div {\n",
              "      margin-bottom: 4px;\n",
              "    }\n",
              "\n",
              "    [theme=dark] .colab-df-convert {\n",
              "      background-color: #3B4455;\n",
              "      fill: #D2E3FC;\n",
              "    }\n",
              "\n",
              "    [theme=dark] .colab-df-convert:hover {\n",
              "      background-color: #434B5C;\n",
              "      box-shadow: 0px 1px 3px 1px rgba(0, 0, 0, 0.15);\n",
              "      filter: drop-shadow(0px 1px 2px rgba(0, 0, 0, 0.3));\n",
              "      fill: #FFFFFF;\n",
              "    }\n",
              "  </style>\n",
              "\n",
              "    <script>\n",
              "      const buttonEl =\n",
              "        document.querySelector('#df-29de3979-055e-4170-900f-99ab8e08c353 button.colab-df-convert');\n",
              "      buttonEl.style.display =\n",
              "        google.colab.kernel.accessAllowed ? 'block' : 'none';\n",
              "\n",
              "      async function convertToInteractive(key) {\n",
              "        const element = document.querySelector('#df-29de3979-055e-4170-900f-99ab8e08c353');\n",
              "        const dataTable =\n",
              "          await google.colab.kernel.invokeFunction('convertToInteractive',\n",
              "                                                    [key], {});\n",
              "        if (!dataTable) return;\n",
              "\n",
              "        const docLinkHtml = 'Like what you see? Visit the ' +\n",
              "          '<a target=\"_blank\" href=https://colab.research.google.com/notebooks/data_table.ipynb>data table notebook</a>'\n",
              "          + ' to learn more about interactive tables.';\n",
              "        element.innerHTML = '';\n",
              "        dataTable['output_type'] = 'display_data';\n",
              "        await google.colab.output.renderOutput(dataTable, element);\n",
              "        const docLink = document.createElement('div');\n",
              "        docLink.innerHTML = docLinkHtml;\n",
              "        element.appendChild(docLink);\n",
              "      }\n",
              "    </script>\n",
              "  </div>\n",
              "\n",
              "\n",
              "<div id=\"df-7f5582f8-b2a6-4c40-a9cf-91706eb618c7\">\n",
              "  <button class=\"colab-df-quickchart\" onclick=\"quickchart('df-7f5582f8-b2a6-4c40-a9cf-91706eb618c7')\"\n",
              "            title=\"Suggest charts.\"\n",
              "            style=\"display:none;\">\n",
              "\n",
              "<svg xmlns=\"http://www.w3.org/2000/svg\" height=\"24px\"viewBox=\"0 0 24 24\"\n",
              "     width=\"24px\">\n",
              "    <g>\n",
              "        <path d=\"M19 3H5c-1.1 0-2 .9-2 2v14c0 1.1.9 2 2 2h14c1.1 0 2-.9 2-2V5c0-1.1-.9-2-2-2zM9 17H7v-7h2v7zm4 0h-2V7h2v10zm4 0h-2v-4h2v4z\"/>\n",
              "    </g>\n",
              "</svg>\n",
              "  </button>\n",
              "\n",
              "<style>\n",
              "  .colab-df-quickchart {\n",
              "      --bg-color: #E8F0FE;\n",
              "      --fill-color: #1967D2;\n",
              "      --hover-bg-color: #E2EBFA;\n",
              "      --hover-fill-color: #174EA6;\n",
              "      --disabled-fill-color: #AAA;\n",
              "      --disabled-bg-color: #DDD;\n",
              "  }\n",
              "\n",
              "  [theme=dark] .colab-df-quickchart {\n",
              "      --bg-color: #3B4455;\n",
              "      --fill-color: #D2E3FC;\n",
              "      --hover-bg-color: #434B5C;\n",
              "      --hover-fill-color: #FFFFFF;\n",
              "      --disabled-bg-color: #3B4455;\n",
              "      --disabled-fill-color: #666;\n",
              "  }\n",
              "\n",
              "  .colab-df-quickchart {\n",
              "    background-color: var(--bg-color);\n",
              "    border: none;\n",
              "    border-radius: 50%;\n",
              "    cursor: pointer;\n",
              "    display: none;\n",
              "    fill: var(--fill-color);\n",
              "    height: 32px;\n",
              "    padding: 0;\n",
              "    width: 32px;\n",
              "  }\n",
              "\n",
              "  .colab-df-quickchart:hover {\n",
              "    background-color: var(--hover-bg-color);\n",
              "    box-shadow: 0 1px 2px rgba(60, 64, 67, 0.3), 0 1px 3px 1px rgba(60, 64, 67, 0.15);\n",
              "    fill: var(--button-hover-fill-color);\n",
              "  }\n",
              "\n",
              "  .colab-df-quickchart-complete:disabled,\n",
              "  .colab-df-quickchart-complete:disabled:hover {\n",
              "    background-color: var(--disabled-bg-color);\n",
              "    fill: var(--disabled-fill-color);\n",
              "    box-shadow: none;\n",
              "  }\n",
              "\n",
              "  .colab-df-spinner {\n",
              "    border: 2px solid var(--fill-color);\n",
              "    border-color: transparent;\n",
              "    border-bottom-color: var(--fill-color);\n",
              "    animation:\n",
              "      spin 1s steps(1) infinite;\n",
              "  }\n",
              "\n",
              "  @keyframes spin {\n",
              "    0% {\n",
              "      border-color: transparent;\n",
              "      border-bottom-color: var(--fill-color);\n",
              "      border-left-color: var(--fill-color);\n",
              "    }\n",
              "    20% {\n",
              "      border-color: transparent;\n",
              "      border-left-color: var(--fill-color);\n",
              "      border-top-color: var(--fill-color);\n",
              "    }\n",
              "    30% {\n",
              "      border-color: transparent;\n",
              "      border-left-color: var(--fill-color);\n",
              "      border-top-color: var(--fill-color);\n",
              "      border-right-color: var(--fill-color);\n",
              "    }\n",
              "    40% {\n",
              "      border-color: transparent;\n",
              "      border-right-color: var(--fill-color);\n",
              "      border-top-color: var(--fill-color);\n",
              "    }\n",
              "    60% {\n",
              "      border-color: transparent;\n",
              "      border-right-color: var(--fill-color);\n",
              "    }\n",
              "    80% {\n",
              "      border-color: transparent;\n",
              "      border-right-color: var(--fill-color);\n",
              "      border-bottom-color: var(--fill-color);\n",
              "    }\n",
              "    90% {\n",
              "      border-color: transparent;\n",
              "      border-bottom-color: var(--fill-color);\n",
              "    }\n",
              "  }\n",
              "</style>\n",
              "\n",
              "  <script>\n",
              "    async function quickchart(key) {\n",
              "      const quickchartButtonEl =\n",
              "        document.querySelector('#' + key + ' button');\n",
              "      quickchartButtonEl.disabled = true;  // To prevent multiple clicks.\n",
              "      quickchartButtonEl.classList.add('colab-df-spinner');\n",
              "      try {\n",
              "        const charts = await google.colab.kernel.invokeFunction(\n",
              "            'suggestCharts', [key], {});\n",
              "      } catch (error) {\n",
              "        console.error('Error during call to suggestCharts:', error);\n",
              "      }\n",
              "      quickchartButtonEl.classList.remove('colab-df-spinner');\n",
              "      quickchartButtonEl.classList.add('colab-df-quickchart-complete');\n",
              "    }\n",
              "    (() => {\n",
              "      let quickchartButtonEl =\n",
              "        document.querySelector('#df-7f5582f8-b2a6-4c40-a9cf-91706eb618c7 button');\n",
              "      quickchartButtonEl.style.display =\n",
              "        google.colab.kernel.accessAllowed ? 'block' : 'none';\n",
              "    })();\n",
              "  </script>\n",
              "</div>\n",
              "    </div>\n",
              "  </div>\n"
            ]
          },
          "metadata": {},
          "execution_count": 7
        }
      ]
    },
    {
      "cell_type": "code",
      "source": [
        "# Preview first 5 rows of data set\n",
        "final_df.tail()"
      ],
      "metadata": {
        "colab": {
          "base_uri": "https://localhost:8080/",
          "height": 359
        },
        "id": "Mc0Ys6PHa7XJ",
        "outputId": "635ddb3b-e489-43e7-fd18-c28dd3184441"
      },
      "execution_count": null,
      "outputs": [
        {
          "output_type": "execute_result",
          "data": {
            "text/plain": [
              "       index iso_code  location        date  total_cases  total_deaths  \\\n",
              "50413  50413      ZWE  Zimbabwe  2020-10-15       8055.0         231.0   \n",
              "50414  50414      ZWE  Zimbabwe  2020-10-16       8075.0         231.0   \n",
              "50415  50415      ZWE  Zimbabwe  2020-10-17       8099.0         231.0   \n",
              "50416  50416      ZWE  Zimbabwe  2020-10-18       8110.0         231.0   \n",
              "50417  50417      ZWE  Zimbabwe  2020-10-19       8147.0         231.0   \n",
              "\n",
              "       stringency_index  population  gdp_per_capita  human_development_index  \\\n",
              "50413             76.85    14862927        1899.775                    0.535   \n",
              "50414             76.85    14862927        1899.775                    0.535   \n",
              "50415             76.85    14862927        1899.775                    0.535   \n",
              "50416             76.85    14862927        1899.775                    0.535   \n",
              "50417             76.85    14862927        1899.775                    0.535   \n",
              "\n",
              "       ...  Unnamed: 13 CODE   COUNTRY        DATE    HDI        TC        TD  \\\n",
              "50413  ...  7.549490737  ZWE  Zimbabwe  2020-10-15  0.535  8.994048  5.442418   \n",
              "50414  ...  7.549490737  ZWE  Zimbabwe  2020-10-16  0.535  8.996528  5.442418   \n",
              "50415  ...  7.549490737  ZWE  Zimbabwe  2020-10-17  0.535  8.999496  5.442418   \n",
              "50416  ...  7.549490737  ZWE  Zimbabwe  2020-10-18  0.535  9.000853  5.442418   \n",
              "50417  ...  7.549490737  ZWE  Zimbabwe  2020-10-19  0.535  9.005405  5.442418   \n",
              "\n",
              "            STI        POP    GDPCAP  \n",
              "50413  4.341855  16.514381  7.549491  \n",
              "50414  4.341855  16.514381  7.549491  \n",
              "50415  4.341855  16.514381  7.549491  \n",
              "50416  4.341855  16.514381  7.549491  \n",
              "50417  4.341855  16.514381  7.549491  \n",
              "\n",
              "[5 rows x 24 columns]"
            ],
            "text/html": [
              "\n",
              "  <div id=\"df-9b769453-f7b9-4a19-a1bc-cb2f115e2bba\" class=\"colab-df-container\">\n",
              "    <div>\n",
              "<style scoped>\n",
              "    .dataframe tbody tr th:only-of-type {\n",
              "        vertical-align: middle;\n",
              "    }\n",
              "\n",
              "    .dataframe tbody tr th {\n",
              "        vertical-align: top;\n",
              "    }\n",
              "\n",
              "    .dataframe thead th {\n",
              "        text-align: right;\n",
              "    }\n",
              "</style>\n",
              "<table border=\"1\" class=\"dataframe\">\n",
              "  <thead>\n",
              "    <tr style=\"text-align: right;\">\n",
              "      <th></th>\n",
              "      <th>index</th>\n",
              "      <th>iso_code</th>\n",
              "      <th>location</th>\n",
              "      <th>date</th>\n",
              "      <th>total_cases</th>\n",
              "      <th>total_deaths</th>\n",
              "      <th>stringency_index</th>\n",
              "      <th>population</th>\n",
              "      <th>gdp_per_capita</th>\n",
              "      <th>human_development_index</th>\n",
              "      <th>...</th>\n",
              "      <th>Unnamed: 13</th>\n",
              "      <th>CODE</th>\n",
              "      <th>COUNTRY</th>\n",
              "      <th>DATE</th>\n",
              "      <th>HDI</th>\n",
              "      <th>TC</th>\n",
              "      <th>TD</th>\n",
              "      <th>STI</th>\n",
              "      <th>POP</th>\n",
              "      <th>GDPCAP</th>\n",
              "    </tr>\n",
              "  </thead>\n",
              "  <tbody>\n",
              "    <tr>\n",
              "      <th>50413</th>\n",
              "      <td>50413</td>\n",
              "      <td>ZWE</td>\n",
              "      <td>Zimbabwe</td>\n",
              "      <td>2020-10-15</td>\n",
              "      <td>8055.0</td>\n",
              "      <td>231.0</td>\n",
              "      <td>76.85</td>\n",
              "      <td>14862927</td>\n",
              "      <td>1899.775</td>\n",
              "      <td>0.535</td>\n",
              "      <td>...</td>\n",
              "      <td>7.549490737</td>\n",
              "      <td>ZWE</td>\n",
              "      <td>Zimbabwe</td>\n",
              "      <td>2020-10-15</td>\n",
              "      <td>0.535</td>\n",
              "      <td>8.994048</td>\n",
              "      <td>5.442418</td>\n",
              "      <td>4.341855</td>\n",
              "      <td>16.514381</td>\n",
              "      <td>7.549491</td>\n",
              "    </tr>\n",
              "    <tr>\n",
              "      <th>50414</th>\n",
              "      <td>50414</td>\n",
              "      <td>ZWE</td>\n",
              "      <td>Zimbabwe</td>\n",
              "      <td>2020-10-16</td>\n",
              "      <td>8075.0</td>\n",
              "      <td>231.0</td>\n",
              "      <td>76.85</td>\n",
              "      <td>14862927</td>\n",
              "      <td>1899.775</td>\n",
              "      <td>0.535</td>\n",
              "      <td>...</td>\n",
              "      <td>7.549490737</td>\n",
              "      <td>ZWE</td>\n",
              "      <td>Zimbabwe</td>\n",
              "      <td>2020-10-16</td>\n",
              "      <td>0.535</td>\n",
              "      <td>8.996528</td>\n",
              "      <td>5.442418</td>\n",
              "      <td>4.341855</td>\n",
              "      <td>16.514381</td>\n",
              "      <td>7.549491</td>\n",
              "    </tr>\n",
              "    <tr>\n",
              "      <th>50415</th>\n",
              "      <td>50415</td>\n",
              "      <td>ZWE</td>\n",
              "      <td>Zimbabwe</td>\n",
              "      <td>2020-10-17</td>\n",
              "      <td>8099.0</td>\n",
              "      <td>231.0</td>\n",
              "      <td>76.85</td>\n",
              "      <td>14862927</td>\n",
              "      <td>1899.775</td>\n",
              "      <td>0.535</td>\n",
              "      <td>...</td>\n",
              "      <td>7.549490737</td>\n",
              "      <td>ZWE</td>\n",
              "      <td>Zimbabwe</td>\n",
              "      <td>2020-10-17</td>\n",
              "      <td>0.535</td>\n",
              "      <td>8.999496</td>\n",
              "      <td>5.442418</td>\n",
              "      <td>4.341855</td>\n",
              "      <td>16.514381</td>\n",
              "      <td>7.549491</td>\n",
              "    </tr>\n",
              "    <tr>\n",
              "      <th>50416</th>\n",
              "      <td>50416</td>\n",
              "      <td>ZWE</td>\n",
              "      <td>Zimbabwe</td>\n",
              "      <td>2020-10-18</td>\n",
              "      <td>8110.0</td>\n",
              "      <td>231.0</td>\n",
              "      <td>76.85</td>\n",
              "      <td>14862927</td>\n",
              "      <td>1899.775</td>\n",
              "      <td>0.535</td>\n",
              "      <td>...</td>\n",
              "      <td>7.549490737</td>\n",
              "      <td>ZWE</td>\n",
              "      <td>Zimbabwe</td>\n",
              "      <td>2020-10-18</td>\n",
              "      <td>0.535</td>\n",
              "      <td>9.000853</td>\n",
              "      <td>5.442418</td>\n",
              "      <td>4.341855</td>\n",
              "      <td>16.514381</td>\n",
              "      <td>7.549491</td>\n",
              "    </tr>\n",
              "    <tr>\n",
              "      <th>50417</th>\n",
              "      <td>50417</td>\n",
              "      <td>ZWE</td>\n",
              "      <td>Zimbabwe</td>\n",
              "      <td>2020-10-19</td>\n",
              "      <td>8147.0</td>\n",
              "      <td>231.0</td>\n",
              "      <td>76.85</td>\n",
              "      <td>14862927</td>\n",
              "      <td>1899.775</td>\n",
              "      <td>0.535</td>\n",
              "      <td>...</td>\n",
              "      <td>7.549490737</td>\n",
              "      <td>ZWE</td>\n",
              "      <td>Zimbabwe</td>\n",
              "      <td>2020-10-19</td>\n",
              "      <td>0.535</td>\n",
              "      <td>9.005405</td>\n",
              "      <td>5.442418</td>\n",
              "      <td>4.341855</td>\n",
              "      <td>16.514381</td>\n",
              "      <td>7.549491</td>\n",
              "    </tr>\n",
              "  </tbody>\n",
              "</table>\n",
              "<p>5 rows × 24 columns</p>\n",
              "</div>\n",
              "    <div class=\"colab-df-buttons\">\n",
              "\n",
              "  <div class=\"colab-df-container\">\n",
              "    <button class=\"colab-df-convert\" onclick=\"convertToInteractive('df-9b769453-f7b9-4a19-a1bc-cb2f115e2bba')\"\n",
              "            title=\"Convert this dataframe to an interactive table.\"\n",
              "            style=\"display:none;\">\n",
              "\n",
              "  <svg xmlns=\"http://www.w3.org/2000/svg\" height=\"24px\" viewBox=\"0 -960 960 960\">\n",
              "    <path d=\"M120-120v-720h720v720H120Zm60-500h600v-160H180v160Zm220 220h160v-160H400v160Zm0 220h160v-160H400v160ZM180-400h160v-160H180v160Zm440 0h160v-160H620v160ZM180-180h160v-160H180v160Zm440 0h160v-160H620v160Z\"/>\n",
              "  </svg>\n",
              "    </button>\n",
              "\n",
              "  <style>\n",
              "    .colab-df-container {\n",
              "      display:flex;\n",
              "      gap: 12px;\n",
              "    }\n",
              "\n",
              "    .colab-df-convert {\n",
              "      background-color: #E8F0FE;\n",
              "      border: none;\n",
              "      border-radius: 50%;\n",
              "      cursor: pointer;\n",
              "      display: none;\n",
              "      fill: #1967D2;\n",
              "      height: 32px;\n",
              "      padding: 0 0 0 0;\n",
              "      width: 32px;\n",
              "    }\n",
              "\n",
              "    .colab-df-convert:hover {\n",
              "      background-color: #E2EBFA;\n",
              "      box-shadow: 0px 1px 2px rgba(60, 64, 67, 0.3), 0px 1px 3px 1px rgba(60, 64, 67, 0.15);\n",
              "      fill: #174EA6;\n",
              "    }\n",
              "\n",
              "    .colab-df-buttons div {\n",
              "      margin-bottom: 4px;\n",
              "    }\n",
              "\n",
              "    [theme=dark] .colab-df-convert {\n",
              "      background-color: #3B4455;\n",
              "      fill: #D2E3FC;\n",
              "    }\n",
              "\n",
              "    [theme=dark] .colab-df-convert:hover {\n",
              "      background-color: #434B5C;\n",
              "      box-shadow: 0px 1px 3px 1px rgba(0, 0, 0, 0.15);\n",
              "      filter: drop-shadow(0px 1px 2px rgba(0, 0, 0, 0.3));\n",
              "      fill: #FFFFFF;\n",
              "    }\n",
              "  </style>\n",
              "\n",
              "    <script>\n",
              "      const buttonEl =\n",
              "        document.querySelector('#df-9b769453-f7b9-4a19-a1bc-cb2f115e2bba button.colab-df-convert');\n",
              "      buttonEl.style.display =\n",
              "        google.colab.kernel.accessAllowed ? 'block' : 'none';\n",
              "\n",
              "      async function convertToInteractive(key) {\n",
              "        const element = document.querySelector('#df-9b769453-f7b9-4a19-a1bc-cb2f115e2bba');\n",
              "        const dataTable =\n",
              "          await google.colab.kernel.invokeFunction('convertToInteractive',\n",
              "                                                    [key], {});\n",
              "        if (!dataTable) return;\n",
              "\n",
              "        const docLinkHtml = 'Like what you see? Visit the ' +\n",
              "          '<a target=\"_blank\" href=https://colab.research.google.com/notebooks/data_table.ipynb>data table notebook</a>'\n",
              "          + ' to learn more about interactive tables.';\n",
              "        element.innerHTML = '';\n",
              "        dataTable['output_type'] = 'display_data';\n",
              "        await google.colab.output.renderOutput(dataTable, element);\n",
              "        const docLink = document.createElement('div');\n",
              "        docLink.innerHTML = docLinkHtml;\n",
              "        element.appendChild(docLink);\n",
              "      }\n",
              "    </script>\n",
              "  </div>\n",
              "\n",
              "\n",
              "<div id=\"df-62d1ed13-72dc-452e-8a65-2bd262452151\">\n",
              "  <button class=\"colab-df-quickchart\" onclick=\"quickchart('df-62d1ed13-72dc-452e-8a65-2bd262452151')\"\n",
              "            title=\"Suggest charts.\"\n",
              "            style=\"display:none;\">\n",
              "\n",
              "<svg xmlns=\"http://www.w3.org/2000/svg\" height=\"24px\"viewBox=\"0 0 24 24\"\n",
              "     width=\"24px\">\n",
              "    <g>\n",
              "        <path d=\"M19 3H5c-1.1 0-2 .9-2 2v14c0 1.1.9 2 2 2h14c1.1 0 2-.9 2-2V5c0-1.1-.9-2-2-2zM9 17H7v-7h2v7zm4 0h-2V7h2v10zm4 0h-2v-4h2v4z\"/>\n",
              "    </g>\n",
              "</svg>\n",
              "  </button>\n",
              "\n",
              "<style>\n",
              "  .colab-df-quickchart {\n",
              "      --bg-color: #E8F0FE;\n",
              "      --fill-color: #1967D2;\n",
              "      --hover-bg-color: #E2EBFA;\n",
              "      --hover-fill-color: #174EA6;\n",
              "      --disabled-fill-color: #AAA;\n",
              "      --disabled-bg-color: #DDD;\n",
              "  }\n",
              "\n",
              "  [theme=dark] .colab-df-quickchart {\n",
              "      --bg-color: #3B4455;\n",
              "      --fill-color: #D2E3FC;\n",
              "      --hover-bg-color: #434B5C;\n",
              "      --hover-fill-color: #FFFFFF;\n",
              "      --disabled-bg-color: #3B4455;\n",
              "      --disabled-fill-color: #666;\n",
              "  }\n",
              "\n",
              "  .colab-df-quickchart {\n",
              "    background-color: var(--bg-color);\n",
              "    border: none;\n",
              "    border-radius: 50%;\n",
              "    cursor: pointer;\n",
              "    display: none;\n",
              "    fill: var(--fill-color);\n",
              "    height: 32px;\n",
              "    padding: 0;\n",
              "    width: 32px;\n",
              "  }\n",
              "\n",
              "  .colab-df-quickchart:hover {\n",
              "    background-color: var(--hover-bg-color);\n",
              "    box-shadow: 0 1px 2px rgba(60, 64, 67, 0.3), 0 1px 3px 1px rgba(60, 64, 67, 0.15);\n",
              "    fill: var(--button-hover-fill-color);\n",
              "  }\n",
              "\n",
              "  .colab-df-quickchart-complete:disabled,\n",
              "  .colab-df-quickchart-complete:disabled:hover {\n",
              "    background-color: var(--disabled-bg-color);\n",
              "    fill: var(--disabled-fill-color);\n",
              "    box-shadow: none;\n",
              "  }\n",
              "\n",
              "  .colab-df-spinner {\n",
              "    border: 2px solid var(--fill-color);\n",
              "    border-color: transparent;\n",
              "    border-bottom-color: var(--fill-color);\n",
              "    animation:\n",
              "      spin 1s steps(1) infinite;\n",
              "  }\n",
              "\n",
              "  @keyframes spin {\n",
              "    0% {\n",
              "      border-color: transparent;\n",
              "      border-bottom-color: var(--fill-color);\n",
              "      border-left-color: var(--fill-color);\n",
              "    }\n",
              "    20% {\n",
              "      border-color: transparent;\n",
              "      border-left-color: var(--fill-color);\n",
              "      border-top-color: var(--fill-color);\n",
              "    }\n",
              "    30% {\n",
              "      border-color: transparent;\n",
              "      border-left-color: var(--fill-color);\n",
              "      border-top-color: var(--fill-color);\n",
              "      border-right-color: var(--fill-color);\n",
              "    }\n",
              "    40% {\n",
              "      border-color: transparent;\n",
              "      border-right-color: var(--fill-color);\n",
              "      border-top-color: var(--fill-color);\n",
              "    }\n",
              "    60% {\n",
              "      border-color: transparent;\n",
              "      border-right-color: var(--fill-color);\n",
              "    }\n",
              "    80% {\n",
              "      border-color: transparent;\n",
              "      border-right-color: var(--fill-color);\n",
              "      border-bottom-color: var(--fill-color);\n",
              "    }\n",
              "    90% {\n",
              "      border-color: transparent;\n",
              "      border-bottom-color: var(--fill-color);\n",
              "    }\n",
              "  }\n",
              "</style>\n",
              "\n",
              "  <script>\n",
              "    async function quickchart(key) {\n",
              "      const quickchartButtonEl =\n",
              "        document.querySelector('#' + key + ' button');\n",
              "      quickchartButtonEl.disabled = true;  // To prevent multiple clicks.\n",
              "      quickchartButtonEl.classList.add('colab-df-spinner');\n",
              "      try {\n",
              "        const charts = await google.colab.kernel.invokeFunction(\n",
              "            'suggestCharts', [key], {});\n",
              "      } catch (error) {\n",
              "        console.error('Error during call to suggestCharts:', error);\n",
              "      }\n",
              "      quickchartButtonEl.classList.remove('colab-df-spinner');\n",
              "      quickchartButtonEl.classList.add('colab-df-quickchart-complete');\n",
              "    }\n",
              "    (() => {\n",
              "      let quickchartButtonEl =\n",
              "        document.querySelector('#df-62d1ed13-72dc-452e-8a65-2bd262452151 button');\n",
              "      quickchartButtonEl.style.display =\n",
              "        google.colab.kernel.accessAllowed ? 'block' : 'none';\n",
              "    })();\n",
              "  </script>\n",
              "</div>\n",
              "    </div>\n",
              "  </div>\n"
            ]
          },
          "metadata": {},
          "execution_count": 8
        }
      ]
    },
    {
      "cell_type": "code",
      "source": [
        "#Shape of the data sets(Total number of rows and columns entries)\n",
        "print(df1.shape)\n",
        "print(df2.shape)"
      ],
      "metadata": {
        "colab": {
          "base_uri": "https://localhost:8080/"
        },
        "id": "SD32Kcd6XaLA",
        "outputId": "99359cd5-ce81-45df-d406-edd173eab41c"
      },
      "execution_count": null,
      "outputs": [
        {
          "output_type": "stream",
          "name": "stdout",
          "text": [
            "(50418, 15)\n",
            "(50418, 10)\n"
          ]
        }
      ]
    },
    {
      "cell_type": "code",
      "source": [
        "#Datasets information\n",
        "df1.info()\n",
        "df2.info()"
      ],
      "metadata": {
        "colab": {
          "base_uri": "https://localhost:8080/"
        },
        "id": "P7Mrj2V1Rl68",
        "outputId": "9f245d91-1db7-48e5-d90c-3e7c26ff8d3d"
      },
      "execution_count": null,
      "outputs": [
        {
          "output_type": "stream",
          "name": "stdout",
          "text": [
            "<class 'pandas.core.frame.DataFrame'>\n",
            "RangeIndex: 50418 entries, 0 to 50417\n",
            "Data columns (total 15 columns):\n",
            " #   Column                   Non-Null Count  Dtype  \n",
            "---  ------                   --------------  -----  \n",
            " 0   index                    50418 non-null  int64  \n",
            " 1   iso_code                 50418 non-null  object \n",
            " 2   location                 50418 non-null  object \n",
            " 3   date                     50418 non-null  object \n",
            " 4   total_cases              47324 non-null  float64\n",
            " 5   total_deaths             39228 non-null  float64\n",
            " 6   stringency_index         43292 non-null  float64\n",
            " 7   population               50418 non-null  int64  \n",
            " 8   gdp_per_capita           44706 non-null  float64\n",
            " 9   human_development_index  44216 non-null  float64\n",
            " 10  Unnamed: 9               50418 non-null  object \n",
            " 11  Unnamed: 10              50418 non-null  object \n",
            " 12  Unnamed: 11              50418 non-null  object \n",
            " 13  Unnamed: 12              50418 non-null  float64\n",
            " 14  Unnamed: 13              50418 non-null  object \n",
            "dtypes: float64(6), int64(2), object(7)\n",
            "memory usage: 5.8+ MB\n",
            "<class 'pandas.core.frame.DataFrame'>\n",
            "RangeIndex: 50418 entries, 0 to 50417\n",
            "Data columns (total 10 columns):\n",
            " #   Column   Non-Null Count  Dtype  \n",
            "---  ------   --------------  -----  \n",
            " 0   index    50418 non-null  int64  \n",
            " 1   CODE     50418 non-null  object \n",
            " 2   COUNTRY  50418 non-null  object \n",
            " 3   DATE     50418 non-null  object \n",
            " 4   HDI      44216 non-null  float64\n",
            " 5   TC       50418 non-null  float64\n",
            " 6   TD       50418 non-null  float64\n",
            " 7   STI      50418 non-null  float64\n",
            " 8   POP      50418 non-null  float64\n",
            " 9   GDPCAP   50418 non-null  float64\n",
            "dtypes: float64(6), int64(1), object(3)\n",
            "memory usage: 3.8+ MB\n"
          ]
        }
      ]
    },
    {
      "cell_type": "markdown",
      "source": [
        "**Data** **Cleaning**"
      ],
      "metadata": {
        "id": "TJBPhp-aeR5W"
      }
    },
    {
      "cell_type": "code",
      "source": [
        "#Remove unnamed and repetative columns\n",
        "final_df.drop(['Unnamed: 9','Unnamed: 10','Unnamed: 11','Unnamed: 12','Unnamed: 13','CODE','COUNTRY','DATE','HDI','TC','TD','STI','POP','GDPCAP'],axis=1,inplace=True)"
      ],
      "metadata": {
        "id": "uw5eaYfaemSM"
      },
      "execution_count": null,
      "outputs": []
    },
    {
      "cell_type": "code",
      "source": [
        "final_df"
      ],
      "metadata": {
        "colab": {
          "base_uri": "https://localhost:8080/",
          "height": 423
        },
        "id": "gYNAn4xUaBlU",
        "outputId": "a8df09ea-285a-44b5-be23-8966e784a73e"
      },
      "execution_count": null,
      "outputs": [
        {
          "output_type": "execute_result",
          "data": {
            "text/plain": [
              "       index iso_code     location        date  total_cases  total_deaths  \\\n",
              "0          0      AFG  Afghanistan  2019-12-31          0.0           0.0   \n",
              "1          1      AFG  Afghanistan  2020-01-01          0.0           0.0   \n",
              "2          2      AFG  Afghanistan  2020-01-02          0.0           0.0   \n",
              "3          3      AFG  Afghanistan  2020-01-03          0.0           0.0   \n",
              "4          4      AFG  Afghanistan  2020-01-04          0.0           0.0   \n",
              "...      ...      ...          ...         ...          ...           ...   \n",
              "50413  50413      ZWE     Zimbabwe  2020-10-15       8055.0         231.0   \n",
              "50414  50414      ZWE     Zimbabwe  2020-10-16       8075.0         231.0   \n",
              "50415  50415      ZWE     Zimbabwe  2020-10-17       8099.0         231.0   \n",
              "50416  50416      ZWE     Zimbabwe  2020-10-18       8110.0         231.0   \n",
              "50417  50417      ZWE     Zimbabwe  2020-10-19       8147.0         231.0   \n",
              "\n",
              "       stringency_index  population  gdp_per_capita  human_development_index  \n",
              "0                  0.00    38928341        1803.987                    0.498  \n",
              "1                  0.00    38928341        1803.987                    0.498  \n",
              "2                  0.00    38928341        1803.987                    0.498  \n",
              "3                  0.00    38928341        1803.987                    0.498  \n",
              "4                  0.00    38928341        1803.987                    0.498  \n",
              "...                 ...         ...             ...                      ...  \n",
              "50413             76.85    14862927        1899.775                    0.535  \n",
              "50414             76.85    14862927        1899.775                    0.535  \n",
              "50415             76.85    14862927        1899.775                    0.535  \n",
              "50416             76.85    14862927        1899.775                    0.535  \n",
              "50417             76.85    14862927        1899.775                    0.535  \n",
              "\n",
              "[50418 rows x 10 columns]"
            ],
            "text/html": [
              "\n",
              "  <div id=\"df-a72a5772-ca18-46bb-97ac-19dc5b4bd05f\" class=\"colab-df-container\">\n",
              "    <div>\n",
              "<style scoped>\n",
              "    .dataframe tbody tr th:only-of-type {\n",
              "        vertical-align: middle;\n",
              "    }\n",
              "\n",
              "    .dataframe tbody tr th {\n",
              "        vertical-align: top;\n",
              "    }\n",
              "\n",
              "    .dataframe thead th {\n",
              "        text-align: right;\n",
              "    }\n",
              "</style>\n",
              "<table border=\"1\" class=\"dataframe\">\n",
              "  <thead>\n",
              "    <tr style=\"text-align: right;\">\n",
              "      <th></th>\n",
              "      <th>index</th>\n",
              "      <th>iso_code</th>\n",
              "      <th>location</th>\n",
              "      <th>date</th>\n",
              "      <th>total_cases</th>\n",
              "      <th>total_deaths</th>\n",
              "      <th>stringency_index</th>\n",
              "      <th>population</th>\n",
              "      <th>gdp_per_capita</th>\n",
              "      <th>human_development_index</th>\n",
              "    </tr>\n",
              "  </thead>\n",
              "  <tbody>\n",
              "    <tr>\n",
              "      <th>0</th>\n",
              "      <td>0</td>\n",
              "      <td>AFG</td>\n",
              "      <td>Afghanistan</td>\n",
              "      <td>2019-12-31</td>\n",
              "      <td>0.0</td>\n",
              "      <td>0.0</td>\n",
              "      <td>0.00</td>\n",
              "      <td>38928341</td>\n",
              "      <td>1803.987</td>\n",
              "      <td>0.498</td>\n",
              "    </tr>\n",
              "    <tr>\n",
              "      <th>1</th>\n",
              "      <td>1</td>\n",
              "      <td>AFG</td>\n",
              "      <td>Afghanistan</td>\n",
              "      <td>2020-01-01</td>\n",
              "      <td>0.0</td>\n",
              "      <td>0.0</td>\n",
              "      <td>0.00</td>\n",
              "      <td>38928341</td>\n",
              "      <td>1803.987</td>\n",
              "      <td>0.498</td>\n",
              "    </tr>\n",
              "    <tr>\n",
              "      <th>2</th>\n",
              "      <td>2</td>\n",
              "      <td>AFG</td>\n",
              "      <td>Afghanistan</td>\n",
              "      <td>2020-01-02</td>\n",
              "      <td>0.0</td>\n",
              "      <td>0.0</td>\n",
              "      <td>0.00</td>\n",
              "      <td>38928341</td>\n",
              "      <td>1803.987</td>\n",
              "      <td>0.498</td>\n",
              "    </tr>\n",
              "    <tr>\n",
              "      <th>3</th>\n",
              "      <td>3</td>\n",
              "      <td>AFG</td>\n",
              "      <td>Afghanistan</td>\n",
              "      <td>2020-01-03</td>\n",
              "      <td>0.0</td>\n",
              "      <td>0.0</td>\n",
              "      <td>0.00</td>\n",
              "      <td>38928341</td>\n",
              "      <td>1803.987</td>\n",
              "      <td>0.498</td>\n",
              "    </tr>\n",
              "    <tr>\n",
              "      <th>4</th>\n",
              "      <td>4</td>\n",
              "      <td>AFG</td>\n",
              "      <td>Afghanistan</td>\n",
              "      <td>2020-01-04</td>\n",
              "      <td>0.0</td>\n",
              "      <td>0.0</td>\n",
              "      <td>0.00</td>\n",
              "      <td>38928341</td>\n",
              "      <td>1803.987</td>\n",
              "      <td>0.498</td>\n",
              "    </tr>\n",
              "    <tr>\n",
              "      <th>...</th>\n",
              "      <td>...</td>\n",
              "      <td>...</td>\n",
              "      <td>...</td>\n",
              "      <td>...</td>\n",
              "      <td>...</td>\n",
              "      <td>...</td>\n",
              "      <td>...</td>\n",
              "      <td>...</td>\n",
              "      <td>...</td>\n",
              "      <td>...</td>\n",
              "    </tr>\n",
              "    <tr>\n",
              "      <th>50413</th>\n",
              "      <td>50413</td>\n",
              "      <td>ZWE</td>\n",
              "      <td>Zimbabwe</td>\n",
              "      <td>2020-10-15</td>\n",
              "      <td>8055.0</td>\n",
              "      <td>231.0</td>\n",
              "      <td>76.85</td>\n",
              "      <td>14862927</td>\n",
              "      <td>1899.775</td>\n",
              "      <td>0.535</td>\n",
              "    </tr>\n",
              "    <tr>\n",
              "      <th>50414</th>\n",
              "      <td>50414</td>\n",
              "      <td>ZWE</td>\n",
              "      <td>Zimbabwe</td>\n",
              "      <td>2020-10-16</td>\n",
              "      <td>8075.0</td>\n",
              "      <td>231.0</td>\n",
              "      <td>76.85</td>\n",
              "      <td>14862927</td>\n",
              "      <td>1899.775</td>\n",
              "      <td>0.535</td>\n",
              "    </tr>\n",
              "    <tr>\n",
              "      <th>50415</th>\n",
              "      <td>50415</td>\n",
              "      <td>ZWE</td>\n",
              "      <td>Zimbabwe</td>\n",
              "      <td>2020-10-17</td>\n",
              "      <td>8099.0</td>\n",
              "      <td>231.0</td>\n",
              "      <td>76.85</td>\n",
              "      <td>14862927</td>\n",
              "      <td>1899.775</td>\n",
              "      <td>0.535</td>\n",
              "    </tr>\n",
              "    <tr>\n",
              "      <th>50416</th>\n",
              "      <td>50416</td>\n",
              "      <td>ZWE</td>\n",
              "      <td>Zimbabwe</td>\n",
              "      <td>2020-10-18</td>\n",
              "      <td>8110.0</td>\n",
              "      <td>231.0</td>\n",
              "      <td>76.85</td>\n",
              "      <td>14862927</td>\n",
              "      <td>1899.775</td>\n",
              "      <td>0.535</td>\n",
              "    </tr>\n",
              "    <tr>\n",
              "      <th>50417</th>\n",
              "      <td>50417</td>\n",
              "      <td>ZWE</td>\n",
              "      <td>Zimbabwe</td>\n",
              "      <td>2020-10-19</td>\n",
              "      <td>8147.0</td>\n",
              "      <td>231.0</td>\n",
              "      <td>76.85</td>\n",
              "      <td>14862927</td>\n",
              "      <td>1899.775</td>\n",
              "      <td>0.535</td>\n",
              "    </tr>\n",
              "  </tbody>\n",
              "</table>\n",
              "<p>50418 rows × 10 columns</p>\n",
              "</div>\n",
              "    <div class=\"colab-df-buttons\">\n",
              "\n",
              "  <div class=\"colab-df-container\">\n",
              "    <button class=\"colab-df-convert\" onclick=\"convertToInteractive('df-a72a5772-ca18-46bb-97ac-19dc5b4bd05f')\"\n",
              "            title=\"Convert this dataframe to an interactive table.\"\n",
              "            style=\"display:none;\">\n",
              "\n",
              "  <svg xmlns=\"http://www.w3.org/2000/svg\" height=\"24px\" viewBox=\"0 -960 960 960\">\n",
              "    <path d=\"M120-120v-720h720v720H120Zm60-500h600v-160H180v160Zm220 220h160v-160H400v160Zm0 220h160v-160H400v160ZM180-400h160v-160H180v160Zm440 0h160v-160H620v160ZM180-180h160v-160H180v160Zm440 0h160v-160H620v160Z\"/>\n",
              "  </svg>\n",
              "    </button>\n",
              "\n",
              "  <style>\n",
              "    .colab-df-container {\n",
              "      display:flex;\n",
              "      gap: 12px;\n",
              "    }\n",
              "\n",
              "    .colab-df-convert {\n",
              "      background-color: #E8F0FE;\n",
              "      border: none;\n",
              "      border-radius: 50%;\n",
              "      cursor: pointer;\n",
              "      display: none;\n",
              "      fill: #1967D2;\n",
              "      height: 32px;\n",
              "      padding: 0 0 0 0;\n",
              "      width: 32px;\n",
              "    }\n",
              "\n",
              "    .colab-df-convert:hover {\n",
              "      background-color: #E2EBFA;\n",
              "      box-shadow: 0px 1px 2px rgba(60, 64, 67, 0.3), 0px 1px 3px 1px rgba(60, 64, 67, 0.15);\n",
              "      fill: #174EA6;\n",
              "    }\n",
              "\n",
              "    .colab-df-buttons div {\n",
              "      margin-bottom: 4px;\n",
              "    }\n",
              "\n",
              "    [theme=dark] .colab-df-convert {\n",
              "      background-color: #3B4455;\n",
              "      fill: #D2E3FC;\n",
              "    }\n",
              "\n",
              "    [theme=dark] .colab-df-convert:hover {\n",
              "      background-color: #434B5C;\n",
              "      box-shadow: 0px 1px 3px 1px rgba(0, 0, 0, 0.15);\n",
              "      filter: drop-shadow(0px 1px 2px rgba(0, 0, 0, 0.3));\n",
              "      fill: #FFFFFF;\n",
              "    }\n",
              "  </style>\n",
              "\n",
              "    <script>\n",
              "      const buttonEl =\n",
              "        document.querySelector('#df-a72a5772-ca18-46bb-97ac-19dc5b4bd05f button.colab-df-convert');\n",
              "      buttonEl.style.display =\n",
              "        google.colab.kernel.accessAllowed ? 'block' : 'none';\n",
              "\n",
              "      async function convertToInteractive(key) {\n",
              "        const element = document.querySelector('#df-a72a5772-ca18-46bb-97ac-19dc5b4bd05f');\n",
              "        const dataTable =\n",
              "          await google.colab.kernel.invokeFunction('convertToInteractive',\n",
              "                                                    [key], {});\n",
              "        if (!dataTable) return;\n",
              "\n",
              "        const docLinkHtml = 'Like what you see? Visit the ' +\n",
              "          '<a target=\"_blank\" href=https://colab.research.google.com/notebooks/data_table.ipynb>data table notebook</a>'\n",
              "          + ' to learn more about interactive tables.';\n",
              "        element.innerHTML = '';\n",
              "        dataTable['output_type'] = 'display_data';\n",
              "        await google.colab.output.renderOutput(dataTable, element);\n",
              "        const docLink = document.createElement('div');\n",
              "        docLink.innerHTML = docLinkHtml;\n",
              "        element.appendChild(docLink);\n",
              "      }\n",
              "    </script>\n",
              "  </div>\n",
              "\n",
              "\n",
              "<div id=\"df-012362e8-6666-455d-9c21-d387bcc70261\">\n",
              "  <button class=\"colab-df-quickchart\" onclick=\"quickchart('df-012362e8-6666-455d-9c21-d387bcc70261')\"\n",
              "            title=\"Suggest charts.\"\n",
              "            style=\"display:none;\">\n",
              "\n",
              "<svg xmlns=\"http://www.w3.org/2000/svg\" height=\"24px\"viewBox=\"0 0 24 24\"\n",
              "     width=\"24px\">\n",
              "    <g>\n",
              "        <path d=\"M19 3H5c-1.1 0-2 .9-2 2v14c0 1.1.9 2 2 2h14c1.1 0 2-.9 2-2V5c0-1.1-.9-2-2-2zM9 17H7v-7h2v7zm4 0h-2V7h2v10zm4 0h-2v-4h2v4z\"/>\n",
              "    </g>\n",
              "</svg>\n",
              "  </button>\n",
              "\n",
              "<style>\n",
              "  .colab-df-quickchart {\n",
              "      --bg-color: #E8F0FE;\n",
              "      --fill-color: #1967D2;\n",
              "      --hover-bg-color: #E2EBFA;\n",
              "      --hover-fill-color: #174EA6;\n",
              "      --disabled-fill-color: #AAA;\n",
              "      --disabled-bg-color: #DDD;\n",
              "  }\n",
              "\n",
              "  [theme=dark] .colab-df-quickchart {\n",
              "      --bg-color: #3B4455;\n",
              "      --fill-color: #D2E3FC;\n",
              "      --hover-bg-color: #434B5C;\n",
              "      --hover-fill-color: #FFFFFF;\n",
              "      --disabled-bg-color: #3B4455;\n",
              "      --disabled-fill-color: #666;\n",
              "  }\n",
              "\n",
              "  .colab-df-quickchart {\n",
              "    background-color: var(--bg-color);\n",
              "    border: none;\n",
              "    border-radius: 50%;\n",
              "    cursor: pointer;\n",
              "    display: none;\n",
              "    fill: var(--fill-color);\n",
              "    height: 32px;\n",
              "    padding: 0;\n",
              "    width: 32px;\n",
              "  }\n",
              "\n",
              "  .colab-df-quickchart:hover {\n",
              "    background-color: var(--hover-bg-color);\n",
              "    box-shadow: 0 1px 2px rgba(60, 64, 67, 0.3), 0 1px 3px 1px rgba(60, 64, 67, 0.15);\n",
              "    fill: var(--button-hover-fill-color);\n",
              "  }\n",
              "\n",
              "  .colab-df-quickchart-complete:disabled,\n",
              "  .colab-df-quickchart-complete:disabled:hover {\n",
              "    background-color: var(--disabled-bg-color);\n",
              "    fill: var(--disabled-fill-color);\n",
              "    box-shadow: none;\n",
              "  }\n",
              "\n",
              "  .colab-df-spinner {\n",
              "    border: 2px solid var(--fill-color);\n",
              "    border-color: transparent;\n",
              "    border-bottom-color: var(--fill-color);\n",
              "    animation:\n",
              "      spin 1s steps(1) infinite;\n",
              "  }\n",
              "\n",
              "  @keyframes spin {\n",
              "    0% {\n",
              "      border-color: transparent;\n",
              "      border-bottom-color: var(--fill-color);\n",
              "      border-left-color: var(--fill-color);\n",
              "    }\n",
              "    20% {\n",
              "      border-color: transparent;\n",
              "      border-left-color: var(--fill-color);\n",
              "      border-top-color: var(--fill-color);\n",
              "    }\n",
              "    30% {\n",
              "      border-color: transparent;\n",
              "      border-left-color: var(--fill-color);\n",
              "      border-top-color: var(--fill-color);\n",
              "      border-right-color: var(--fill-color);\n",
              "    }\n",
              "    40% {\n",
              "      border-color: transparent;\n",
              "      border-right-color: var(--fill-color);\n",
              "      border-top-color: var(--fill-color);\n",
              "    }\n",
              "    60% {\n",
              "      border-color: transparent;\n",
              "      border-right-color: var(--fill-color);\n",
              "    }\n",
              "    80% {\n",
              "      border-color: transparent;\n",
              "      border-right-color: var(--fill-color);\n",
              "      border-bottom-color: var(--fill-color);\n",
              "    }\n",
              "    90% {\n",
              "      border-color: transparent;\n",
              "      border-bottom-color: var(--fill-color);\n",
              "    }\n",
              "  }\n",
              "</style>\n",
              "\n",
              "  <script>\n",
              "    async function quickchart(key) {\n",
              "      const quickchartButtonEl =\n",
              "        document.querySelector('#' + key + ' button');\n",
              "      quickchartButtonEl.disabled = true;  // To prevent multiple clicks.\n",
              "      quickchartButtonEl.classList.add('colab-df-spinner');\n",
              "      try {\n",
              "        const charts = await google.colab.kernel.invokeFunction(\n",
              "            'suggestCharts', [key], {});\n",
              "      } catch (error) {\n",
              "        console.error('Error during call to suggestCharts:', error);\n",
              "      }\n",
              "      quickchartButtonEl.classList.remove('colab-df-spinner');\n",
              "      quickchartButtonEl.classList.add('colab-df-quickchart-complete');\n",
              "    }\n",
              "    (() => {\n",
              "      let quickchartButtonEl =\n",
              "        document.querySelector('#df-012362e8-6666-455d-9c21-d387bcc70261 button');\n",
              "      quickchartButtonEl.style.display =\n",
              "        google.colab.kernel.accessAllowed ? 'block' : 'none';\n",
              "    })();\n",
              "  </script>\n",
              "</div>\n",
              "    </div>\n",
              "  </div>\n"
            ]
          },
          "metadata": {},
          "execution_count": 8
        }
      ]
    },
    {
      "cell_type": "code",
      "source": [
        "#Check the data types\n",
        "final_df.dtypes"
      ],
      "metadata": {
        "colab": {
          "base_uri": "https://localhost:8080/"
        },
        "id": "Umdy_OQNe0pt",
        "outputId": "eb5d28ec-c003-4ec1-cd73-edc3e2a98fbe"
      },
      "execution_count": null,
      "outputs": [
        {
          "output_type": "execute_result",
          "data": {
            "text/plain": [
              "index                        int64\n",
              "iso_code                    object\n",
              "location                    object\n",
              "date                        object\n",
              "total_cases                float64\n",
              "total_deaths               float64\n",
              "stringency_index           float64\n",
              "population                   int64\n",
              "gdp_per_capita             float64\n",
              "human_development_index    float64\n",
              "dtype: object"
            ]
          },
          "metadata": {},
          "execution_count": 9
        }
      ]
    },
    {
      "cell_type": "code",
      "source": [
        "#Change the datatype of date(Object to Date)\n",
        "final_df.date=final_df.date.astype('datetime64')"
      ],
      "metadata": {
        "id": "E4RpuQT9gw-m"
      },
      "execution_count": null,
      "outputs": []
    },
    {
      "cell_type": "code",
      "source": [
        "#Date has a datetime64 as a datatype now\n",
        "final_df.dtypes"
      ],
      "metadata": {
        "colab": {
          "base_uri": "https://localhost:8080/"
        },
        "id": "-nKqAqw_ifdH",
        "outputId": "9ed9d3e6-5af0-4d4b-a22d-148325bcb744"
      },
      "execution_count": null,
      "outputs": [
        {
          "output_type": "execute_result",
          "data": {
            "text/plain": [
              "index                               int64\n",
              "iso_code                           object\n",
              "location                           object\n",
              "date                       datetime64[ns]\n",
              "total_cases                       float64\n",
              "total_deaths                      float64\n",
              "stringency_index                  float64\n",
              "population                          int64\n",
              "gdp_per_capita                    float64\n",
              "human_development_index           float64\n",
              "dtype: object"
            ]
          },
          "metadata": {},
          "execution_count": 11
        }
      ]
    },
    {
      "cell_type": "code",
      "source": [
        "plt.subplot(3,3,1)\n",
        "final_df[(\"total_cases\")].plot(kind = \"kde\",color = \"b\" ,figsize = (10,5))\n",
        "\n",
        "plt.subplot(3,3,2)\n",
        "final_df[(\"total_deaths\")].plot(kind = \"kde\",color = \"b\" ,figsize = (10,5))\n",
        "\n",
        "plt.subplot(3,3,3)\n",
        "final_df[(\"stringency_index\")].plot(kind = \"kde\",color = \"b\" ,figsize = (10,5))\n",
        "\n",
        "\n",
        "\n",
        "#final_df[\"total_deaths\"].plot(kind = \"kde\",color = \"r\" ,figsize = (10,5))"
      ],
      "metadata": {
        "colab": {
          "base_uri": "https://localhost:8080/",
          "height": 224
        },
        "id": "oKyqWY3zBo1T",
        "outputId": "69b731ba-8d9b-4286-edf5-993bcc8935bb"
      },
      "execution_count": null,
      "outputs": [
        {
          "output_type": "execute_result",
          "data": {
            "text/plain": [
              "<Axes: ylabel='Density'>"
            ]
          },
          "metadata": {},
          "execution_count": 12
        },
        {
          "output_type": "display_data",
          "data": {
            "text/plain": [
              "<Figure size 1000x500 with 3 Axes>"
            ],
            "image/png": "[encoded data removed]"
          },
          "metadata": {}
        }
      ]
    },
    {
      "cell_type": "code",
      "source": [
        "plt.subplot(3,4,1)\n",
        "final_df[(\"gdp_per_capita\")].plot(kind = \"kde\",color = \"b\" ,figsize = (10,5))\n",
        "\n",
        "plt.subplot(3,4,2)\n",
        "final_df[(\"human_development_index\")].plot(kind = \"kde\",color = \"b\" ,figsize = (10,5))"
      ],
      "metadata": {
        "colab": {
          "base_uri": "https://localhost:8080/",
          "height": 206
        },
        "id": "zV-H9hLHLkId",
        "outputId": "a24d20f7-4dc0-4c77-96f7-59c9f455db64"
      },
      "execution_count": null,
      "outputs": [
        {
          "output_type": "execute_result",
          "data": {
            "text/plain": [
              "<Axes: ylabel='Density'>"
            ]
          },
          "metadata": {},
          "execution_count": 13
        },
        {
          "output_type": "display_data",
          "data": {
            "text/plain": [
              "<Figure size 1000x500 with 2 Axes>"
            ],
            "image/png": "[encoded data removed]"
          },
          "metadata": {}
        }
      ]
    },
    {
      "cell_type": "code",
      "source": [
        "#Count number of null values in each column\n",
        "final_df.isnull().sum()"
      ],
      "metadata": {
        "colab": {
          "base_uri": "https://localhost:8080/"
        },
        "id": "99KCvthwlrmN",
        "outputId": "6bab23ec-0b6f-481f-fa07-ca303b75e717"
      },
      "execution_count": null,
      "outputs": [
        {
          "output_type": "execute_result",
          "data": {
            "text/plain": [
              "index                          0\n",
              "iso_code                       0\n",
              "location                       0\n",
              "date                           0\n",
              "total_cases                 3094\n",
              "total_deaths               11190\n",
              "stringency_index            7126\n",
              "population                     0\n",
              "gdp_per_capita              5712\n",
              "human_development_index     6202\n",
              "dtype: int64"
            ]
          },
          "metadata": {},
          "execution_count": 14
        }
      ]
    },
    {
      "cell_type": "code",
      "source": [
        "#Find mean of columns that contains null values\n",
        "final_df['stringency_index'].mean()"
      ],
      "metadata": {
        "colab": {
          "base_uri": "https://localhost:8080/"
        },
        "id": "XkiOC0wYn5AZ",
        "outputId": "7b3b5f51-3f37-4070-9a87-ee7612707fc5"
      },
      "execution_count": null,
      "outputs": [
        {
          "output_type": "execute_result",
          "data": {
            "text/plain": [
              "56.16202208260186"
            ]
          },
          "metadata": {},
          "execution_count": 15
        }
      ]
    },
    {
      "cell_type": "code",
      "source": [
        "final_df['gdp_per_capita'].mean()"
      ],
      "metadata": {
        "colab": {
          "base_uri": "https://localhost:8080/"
        },
        "id": "0HkSyj-4oAzX",
        "outputId": "ad5b7c69-0a9e-48bf-8bc0-d0aa4312f12c"
      },
      "execution_count": null,
      "outputs": [
        {
          "output_type": "execute_result",
          "data": {
            "text/plain": [
              "20818.706239788844"
            ]
          },
          "metadata": {},
          "execution_count": 16
        }
      ]
    },
    {
      "cell_type": "code",
      "source": [
        "final_df['human_development_index'].mean()"
      ],
      "metadata": {
        "colab": {
          "base_uri": "https://localhost:8080/"
        },
        "id": "GRHfv4HyoQR8",
        "outputId": "bc2859c5-f8e2-49b9-a935-e1c9caa4a190"
      },
      "execution_count": null,
      "outputs": [
        {
          "output_type": "execute_result",
          "data": {
            "text/plain": [
              "0.7201385245160123"
            ]
          },
          "metadata": {},
          "execution_count": 17
        }
      ]
    },
    {
      "cell_type": "code",
      "source": [
        "#replace null values\n",
        "final_df['total_cases']=final_df['total_cases'].fillna(0)\n",
        "final_df['total_deaths']=final_df['total_deaths'].fillna(0)\n",
        "final_df['stringency_index']=final_df['stringency_index'].fillna(56.16202208260186)\n",
        "final_df['gdp_per_capita']=final_df['gdp_per_capita'].fillna(20818.706239788844)\n",
        "final_df['human_development_index']=final_df['human_development_index'].fillna(0.7201385245160123)\n"
      ],
      "metadata": {
        "id": "4fwXYoncoZ0N"
      },
      "execution_count": null,
      "outputs": []
    },
    {
      "cell_type": "code",
      "source": [
        "#No more null values\n",
        "final_df.isnull().sum()"
      ],
      "metadata": {
        "colab": {
          "base_uri": "https://localhost:8080/"
        },
        "id": "CIXN7UPNp6lQ",
        "outputId": "031eeed4-41be-42f6-8778-a1d6f5a1812b"
      },
      "execution_count": null,
      "outputs": [
        {
          "output_type": "execute_result",
          "data": {
            "text/plain": [
              "index                      0\n",
              "iso_code                   0\n",
              "location                   0\n",
              "date                       0\n",
              "total_cases                0\n",
              "total_deaths               0\n",
              "stringency_index           0\n",
              "population                 0\n",
              "gdp_per_capita             0\n",
              "human_development_index    0\n",
              "dtype: int64"
            ]
          },
          "metadata": {},
          "execution_count": 19
        }
      ]
    },
    {
      "cell_type": "code",
      "source": [
        "#Find number of unique values in each column\n",
        "final_df.nunique()\n"
      ],
      "metadata": {
        "colab": {
          "base_uri": "https://localhost:8080/"
        },
        "id": "IqCA_ilys1q9",
        "outputId": "0127d603-740c-4c95-e9e9-26304bf1666b"
      },
      "execution_count": null,
      "outputs": [
        {
          "output_type": "execute_result",
          "data": {
            "text/plain": [
              "index                      50418\n",
              "iso_code                     210\n",
              "location                     210\n",
              "date                         294\n",
              "total_cases                19172\n",
              "total_deaths                6374\n",
              "stringency_index             171\n",
              "population                   210\n",
              "gdp_per_capita               185\n",
              "human_development_index      158\n",
              "dtype: int64"
            ]
          },
          "metadata": {},
          "execution_count": 20
        }
      ]
    },
    {
      "cell_type": "code",
      "source": [
        "#OR\n",
        "\n",
        "print(final_df.iso_code.nunique(dropna=True))\n",
        "print(final_df.location.nunique(dropna=True))\n",
        "print(final_df.date.nunique(dropna=True))\n",
        "print(final_df.total_cases.nunique(dropna=True))\n",
        "print(final_df.total_deaths.nunique(dropna=True))\n",
        "print(final_df.stringency_index.nunique(dropna=True))\n",
        "print(final_df.population.nunique(dropna=True))\n",
        "print(final_df.gdp_per_capita.nunique(dropna=True))\n",
        "print(final_df.human_development_index .nunique(dropna=True))\n",
        "\n",
        "\n",
        "\n"
      ],
      "metadata": {
        "colab": {
          "base_uri": "https://localhost:8080/"
        },
        "id": "Tbw0zLdDvNWk",
        "outputId": "073367ec-4699-4aa3-9ed5-22c4043e86d8"
      },
      "execution_count": null,
      "outputs": [
        {
          "output_type": "stream",
          "name": "stdout",
          "text": [
            "210\n",
            "210\n",
            "294\n",
            "19172\n",
            "6374\n",
            "171\n",
            "210\n",
            "185\n",
            "158\n"
          ]
        }
      ]
    },
    {
      "cell_type": "code",
      "source": [
        "#Find number duplicate of data\n",
        "final_df.duplicated().sum()"
      ],
      "metadata": {
        "colab": {
          "base_uri": "https://localhost:8080/"
        },
        "id": "oecmH0u7ycFt",
        "outputId": "dbebcd5f-0bb3-4687-895f-a6e9f73d204e"
      },
      "execution_count": null,
      "outputs": [
        {
          "output_type": "execute_result",
          "data": {
            "text/plain": [
              "0"
            ]
          },
          "metadata": {},
          "execution_count": 22
        }
      ]
    },
    {
      "cell_type": "code",
      "source": [
        "#No duplicate row found\n",
        "final_df[final_df.duplicated(keep=False)]"
      ],
      "metadata": {
        "colab": {
          "base_uri": "https://localhost:8080/",
          "height": 53
        },
        "id": "Rg0oHdOXy4A_",
        "outputId": "2bcd8d44-c9ea-402e-82b7-b0aa4037fc6e"
      },
      "execution_count": null,
      "outputs": [
        {
          "output_type": "execute_result",
          "data": {
            "text/plain": [
              "Empty DataFrame\n",
              "Columns: [index, iso_code, location, date, total_cases, total_deaths, stringency_index, population, gdp_per_capita, human_development_index]\n",
              "Index: []"
            ],
            "text/html": [
              "\n",
              "  <div id=\"df-3a32f9e4-a931-4286-85d8-d72e07c578fd\" class=\"colab-df-container\">\n",
              "    <div>\n",
              "<style scoped>\n",
              "    .dataframe tbody tr th:only-of-type {\n",
              "        vertical-align: middle;\n",
              "    }\n",
              "\n",
              "    .dataframe tbody tr th {\n",
              "        vertical-align: top;\n",
              "    }\n",
              "\n",
              "    .dataframe thead th {\n",
              "        text-align: right;\n",
              "    }\n",
              "</style>\n",
              "<table border=\"1\" class=\"dataframe\">\n",
              "  <thead>\n",
              "    <tr style=\"text-align: right;\">\n",
              "      <th></th>\n",
              "      <th>index</th>\n",
              "      <th>iso_code</th>\n",
              "      <th>location</th>\n",
              "      <th>date</th>\n",
              "      <th>total_cases</th>\n",
              "      <th>total_deaths</th>\n",
              "      <th>stringency_index</th>\n",
              "      <th>population</th>\n",
              "      <th>gdp_per_capita</th>\n",
              "      <th>human_development_index</th>\n",
              "    </tr>\n",
              "  </thead>\n",
              "  <tbody>\n",
              "  </tbody>\n",
              "</table>\n",
              "</div>\n",
              "    <div class=\"colab-df-buttons\">\n",
              "\n",
              "  <div class=\"colab-df-container\">\n",
              "    <button class=\"colab-df-convert\" onclick=\"convertToInteractive('df-3a32f9e4-a931-4286-85d8-d72e07c578fd')\"\n",
              "            title=\"Convert this dataframe to an interactive table.\"\n",
              "            style=\"display:none;\">\n",
              "\n",
              "  <svg xmlns=\"http://www.w3.org/2000/svg\" height=\"24px\" viewBox=\"0 -960 960 960\">\n",
              "    <path d=\"M120-120v-720h720v720H120Zm60-500h600v-160H180v160Zm220 220h160v-160H400v160Zm0 220h160v-160H400v160ZM180-400h160v-160H180v160Zm440 0h160v-160H620v160ZM180-180h160v-160H180v160Zm440 0h160v-160H620v160Z\"/>\n",
              "  </svg>\n",
              "    </button>\n",
              "\n",
              "  <style>\n",
              "    .colab-df-container {\n",
              "      display:flex;\n",
              "      gap: 12px;\n",
              "    }\n",
              "\n",
              "    .colab-df-convert {\n",
              "      background-color: #E8F0FE;\n",
              "      border: none;\n",
              "      border-radius: 50%;\n",
              "      cursor: pointer;\n",
              "      display: none;\n",
              "      fill: #1967D2;\n",
              "      height: 32px;\n",
              "      padding: 0 0 0 0;\n",
              "      width: 32px;\n",
              "    }\n",
              "\n",
              "    .colab-df-convert:hover {\n",
              "      background-color: #E2EBFA;\n",
              "      box-shadow: 0px 1px 2px rgba(60, 64, 67, 0.3), 0px 1px 3px 1px rgba(60, 64, 67, 0.15);\n",
              "      fill: #174EA6;\n",
              "    }\n",
              "\n",
              "    .colab-df-buttons div {\n",
              "      margin-bottom: 4px;\n",
              "    }\n",
              "\n",
              "    [theme=dark] .colab-df-convert {\n",
              "      background-color: #3B4455;\n",
              "      fill: #D2E3FC;\n",
              "    }\n",
              "\n",
              "    [theme=dark] .colab-df-convert:hover {\n",
              "      background-color: #434B5C;\n",
              "      box-shadow: 0px 1px 3px 1px rgba(0, 0, 0, 0.15);\n",
              "      filter: drop-shadow(0px 1px 2px rgba(0, 0, 0, 0.3));\n",
              "      fill: #FFFFFF;\n",
              "    }\n",
              "  </style>\n",
              "\n",
              "    <script>\n",
              "      const buttonEl =\n",
              "        document.querySelector('#df-3a32f9e4-a931-4286-85d8-d72e07c578fd button.colab-df-convert');\n",
              "      buttonEl.style.display =\n",
              "        google.colab.kernel.accessAllowed ? 'block' : 'none';\n",
              "\n",
              "      async function convertToInteractive(key) {\n",
              "        const element = document.querySelector('#df-3a32f9e4-a931-4286-85d8-d72e07c578fd');\n",
              "        const dataTable =\n",
              "          await google.colab.kernel.invokeFunction('convertToInteractive',\n",
              "                                                    [key], {});\n",
              "        if (!dataTable) return;\n",
              "\n",
              "        const docLinkHtml = 'Like what you see? Visit the ' +\n",
              "          '<a target=\"_blank\" href=https://colab.research.google.com/notebooks/data_table.ipynb>data table notebook</a>'\n",
              "          + ' to learn more about interactive tables.';\n",
              "        element.innerHTML = '';\n",
              "        dataTable['output_type'] = 'display_data';\n",
              "        await google.colab.output.renderOutput(dataTable, element);\n",
              "        const docLink = document.createElement('div');\n",
              "        docLink.innerHTML = docLinkHtml;\n",
              "        element.appendChild(docLink);\n",
              "      }\n",
              "    </script>\n",
              "  </div>\n",
              "\n",
              "    </div>\n",
              "  </div>\n"
            ]
          },
          "metadata": {},
          "execution_count": 23
        }
      ]
    },
    {
      "cell_type": "code",
      "source": [
        "#Let's save cleaned data to new csv file\n",
        "final_df.to_csv('/content/drive/MyDrive/Python/covid_19_analysis_final.csv')"
      ],
      "metadata": {
        "id": "sWcfIobMgm1N"
      },
      "execution_count": null,
      "outputs": []
    },
    {
      "cell_type": "code",
      "source": [
        "df=final_df.copy()"
      ],
      "metadata": {
        "id": "tp5Bv_ia6zUd"
      },
      "execution_count": null,
      "outputs": []
    },
    {
      "cell_type": "markdown",
      "source": [
        "**2. Analyzing the Spread of Covid-19**"
      ],
      "metadata": {
        "id": "HJykXsH82lNC"
      }
    },
    {
      "cell_type": "markdown",
      "source": [
        "Descriptive analysis"
      ],
      "metadata": {
        "id": "M2TzM1Fr1kWh"
      }
    },
    {
      "cell_type": "code",
      "source": [
        "#Descriptive statistics summary\n",
        "df.describe(include='all')"
      ],
      "metadata": {
        "colab": {
          "base_uri": "https://localhost:8080/",
          "height": 563
        },
        "id": "V1dyUFxd1gaG",
        "outputId": "e4714daf-ff14-464a-974b-c7fb5b8221d0"
      },
      "execution_count": null,
      "outputs": [
        {
          "output_type": "stream",
          "name": "stderr",
          "text": [
            "<ipython-input-31-41a34aa7a59c>:2: FutureWarning: Treating datetime data as categorical rather than numeric in `.describe` is deprecated and will be removed in a future version of pandas. Specify `datetime_is_numeric=True` to silence this warning and adopt the future behavior now.\n",
            "  df.describe(include='all')\n"
          ]
        },
        {
          "output_type": "execute_result",
          "data": {
            "text/plain": [
              "               index iso_code     location                 date   total_cases  \\\n",
              "count   50418.000000    50418        50418                50418  5.041800e+04   \n",
              "unique           NaN      210          210                  294           NaN   \n",
              "top              NaN      AFG  Afghanistan  2020-08-31 00:00:00           NaN   \n",
              "freq             NaN      294          294                  209           NaN   \n",
              "first            NaN      NaN          NaN  2019-12-31 00:00:00           NaN   \n",
              "last             NaN      NaN          NaN  2020-10-19 00:00:00           NaN   \n",
              "mean    25208.500000      NaN          NaN                  NaN  6.215560e+04   \n",
              "std     14554.567273      NaN          NaN                  NaN  3.922702e+05   \n",
              "min         0.000000      NaN          NaN                  NaN  0.000000e+00   \n",
              "25%     12604.250000      NaN          NaN                  NaN  6.400000e+01   \n",
              "50%     25208.500000      NaN          NaN                  NaN  1.203000e+03   \n",
              "75%     37812.750000      NaN          NaN                  NaN  1.342225e+04   \n",
              "max     50417.000000      NaN          NaN                  NaN  8.154595e+06   \n",
              "\n",
              "         total_deaths  stringency_index    population  gdp_per_capita  \\\n",
              "count    50418.000000      50418.000000  5.041800e+04    50418.000000   \n",
              "unique            NaN               NaN           NaN             NaN   \n",
              "top               NaN               NaN           NaN             NaN   \n",
              "freq              NaN               NaN           NaN             NaN   \n",
              "first             NaN               NaN           NaN             NaN   \n",
              "last              NaN               NaN           NaN             NaN   \n",
              "mean      2317.646555         56.162022  4.251601e+07    20818.706240   \n",
              "std      12267.528868         25.512844  1.564607e+08    19248.613445   \n",
              "min          0.000000          0.000000  8.090000e+02      661.240000   \n",
              "25%          1.000000         41.670000  1.399491e+06     6253.104000   \n",
              "50%         24.000000         56.162022  8.278737e+06    16409.288000   \n",
              "75%        276.000000         76.390000  2.913681e+07    27936.896000   \n",
              "max     219674.000000        100.000000  1.439324e+09   116935.600000   \n",
              "\n",
              "        human_development_index  \n",
              "count              50418.000000  \n",
              "unique                      NaN  \n",
              "top                         NaN  \n",
              "freq                        NaN  \n",
              "first                       NaN  \n",
              "last                        NaN  \n",
              "mean                   0.720139  \n",
              "std                    0.150680  \n",
              "min                    0.000000  \n",
              "25%                    0.640000  \n",
              "50%                    0.723000  \n",
              "75%                    0.825000  \n",
              "max                    0.953000  "
            ],
            "text/html": [
              "\n",
              "  <div id=\"df-8f299de4-80e7-4806-a533-e645e442113c\" class=\"colab-df-container\">\n",
              "    <div>\n",
              "<style scoped>\n",
              "    .dataframe tbody tr th:only-of-type {\n",
              "        vertical-align: middle;\n",
              "    }\n",
              "\n",
              "    .dataframe tbody tr th {\n",
              "        vertical-align: top;\n",
              "    }\n",
              "\n",
              "    .dataframe thead th {\n",
              "        text-align: right;\n",
              "    }\n",
              "</style>\n",
              "<table border=\"1\" class=\"dataframe\">\n",
              "  <thead>\n",
              "    <tr style=\"text-align: right;\">\n",
              "      <th></th>\n",
              "      <th>index</th>\n",
              "      <th>iso_code</th>\n",
              "      <th>location</th>\n",
              "      <th>date</th>\n",
              "      <th>total_cases</th>\n",
              "      <th>total_deaths</th>\n",
              "      <th>stringency_index</th>\n",
              "      <th>population</th>\n",
              "      <th>gdp_per_capita</th>\n",
              "      <th>human_development_index</th>\n",
              "    </tr>\n",
              "  </thead>\n",
              "  <tbody>\n",
              "    <tr>\n",
              "      <th>count</th>\n",
              "      <td>50418.000000</td>\n",
              "      <td>50418</td>\n",
              "      <td>50418</td>\n",
              "      <td>50418</td>\n",
              "      <td>5.041800e+04</td>\n",
              "      <td>50418.000000</td>\n",
              "      <td>50418.000000</td>\n",
              "      <td>5.041800e+04</td>\n",
              "      <td>50418.000000</td>\n",
              "      <td>50418.000000</td>\n",
              "    </tr>\n",
              "    <tr>\n",
              "      <th>unique</th>\n",
              "      <td>NaN</td>\n",
              "      <td>210</td>\n",
              "      <td>210</td>\n",
              "      <td>294</td>\n",
              "      <td>NaN</td>\n",
              "      <td>NaN</td>\n",
              "      <td>NaN</td>\n",
              "      <td>NaN</td>\n",
              "      <td>NaN</td>\n",
              "      <td>NaN</td>\n",
              "    </tr>\n",
              "    <tr>\n",
              "      <th>top</th>\n",
              "      <td>NaN</td>\n",
              "      <td>AFG</td>\n",
              "      <td>Afghanistan</td>\n",
              "      <td>2020-08-31 00:00:00</td>\n",
              "      <td>NaN</td>\n",
              "      <td>NaN</td>\n",
              "      <td>NaN</td>\n",
              "      <td>NaN</td>\n",
              "      <td>NaN</td>\n",
              "      <td>NaN</td>\n",
              "    </tr>\n",
              "    <tr>\n",
              "      <th>freq</th>\n",
              "      <td>NaN</td>\n",
              "      <td>294</td>\n",
              "      <td>294</td>\n",
              "      <td>209</td>\n",
              "      <td>NaN</td>\n",
              "      <td>NaN</td>\n",
              "      <td>NaN</td>\n",
              "      <td>NaN</td>\n",
              "      <td>NaN</td>\n",
              "      <td>NaN</td>\n",
              "    </tr>\n",
              "    <tr>\n",
              "      <th>first</th>\n",
              "      <td>NaN</td>\n",
              "      <td>NaN</td>\n",
              "      <td>NaN</td>\n",
              "      <td>2019-12-31 00:00:00</td>\n",
              "      <td>NaN</td>\n",
              "      <td>NaN</td>\n",
              "      <td>NaN</td>\n",
              "      <td>NaN</td>\n",
              "      <td>NaN</td>\n",
              "      <td>NaN</td>\n",
              "    </tr>\n",
              "    <tr>\n",
              "      <th>last</th>\n",
              "      <td>NaN</td>\n",
              "      <td>NaN</td>\n",
              "      <td>NaN</td>\n",
              "      <td>2020-10-19 00:00:00</td>\n",
              "      <td>NaN</td>\n",
              "      <td>NaN</td>\n",
              "      <td>NaN</td>\n",
              "      <td>NaN</td>\n",
              "      <td>NaN</td>\n",
              "      <td>NaN</td>\n",
              "    </tr>\n",
              "    <tr>\n",
              "      <th>mean</th>\n",
              "      <td>25208.500000</td>\n",
              "      <td>NaN</td>\n",
              "      <td>NaN</td>\n",
              "      <td>NaN</td>\n",
              "      <td>6.215560e+04</td>\n",
              "      <td>2317.646555</td>\n",
              "      <td>56.162022</td>\n",
              "      <td>4.251601e+07</td>\n",
              "      <td>20818.706240</td>\n",
              "      <td>0.720139</td>\n",
              "    </tr>\n",
              "    <tr>\n",
              "      <th>std</th>\n",
              "      <td>14554.567273</td>\n",
              "      <td>NaN</td>\n",
              "      <td>NaN</td>\n",
              "      <td>NaN</td>\n",
              "      <td>3.922702e+05</td>\n",
              "      <td>12267.528868</td>\n",
              "      <td>25.512844</td>\n",
              "      <td>1.564607e+08</td>\n",
              "      <td>19248.613445</td>\n",
              "      <td>0.150680</td>\n",
              "    </tr>\n",
              "    <tr>\n",
              "      <th>min</th>\n",
              "      <td>0.000000</td>\n",
              "      <td>NaN</td>\n",
              "      <td>NaN</td>\n",
              "      <td>NaN</td>\n",
              "      <td>0.000000e+00</td>\n",
              "      <td>0.000000</td>\n",
              "      <td>0.000000</td>\n",
              "      <td>8.090000e+02</td>\n",
              "      <td>661.240000</td>\n",
              "      <td>0.000000</td>\n",
              "    </tr>\n",
              "    <tr>\n",
              "      <th>25%</th>\n",
              "      <td>12604.250000</td>\n",
              "      <td>NaN</td>\n",
              "      <td>NaN</td>\n",
              "      <td>NaN</td>\n",
              "      <td>6.400000e+01</td>\n",
              "      <td>1.000000</td>\n",
              "      <td>41.670000</td>\n",
              "      <td>1.399491e+06</td>\n",
              "      <td>6253.104000</td>\n",
              "      <td>0.640000</td>\n",
              "    </tr>\n",
              "    <tr>\n",
              "      <th>50%</th>\n",
              "      <td>25208.500000</td>\n",
              "      <td>NaN</td>\n",
              "      <td>NaN</td>\n",
              "      <td>NaN</td>\n",
              "      <td>1.203000e+03</td>\n",
              "      <td>24.000000</td>\n",
              "      <td>56.162022</td>\n",
              "      <td>8.278737e+06</td>\n",
              "      <td>16409.288000</td>\n",
              "      <td>0.723000</td>\n",
              "    </tr>\n",
              "    <tr>\n",
              "      <th>75%</th>\n",
              "      <td>37812.750000</td>\n",
              "      <td>NaN</td>\n",
              "      <td>NaN</td>\n",
              "      <td>NaN</td>\n",
              "      <td>1.342225e+04</td>\n",
              "      <td>276.000000</td>\n",
              "      <td>76.390000</td>\n",
              "      <td>2.913681e+07</td>\n",
              "      <td>27936.896000</td>\n",
              "      <td>0.825000</td>\n",
              "    </tr>\n",
              "    <tr>\n",
              "      <th>max</th>\n",
              "      <td>50417.000000</td>\n",
              "      <td>NaN</td>\n",
              "      <td>NaN</td>\n",
              "      <td>NaN</td>\n",
              "      <td>8.154595e+06</td>\n",
              "      <td>219674.000000</td>\n",
              "      <td>100.000000</td>\n",
              "      <td>1.439324e+09</td>\n",
              "      <td>116935.600000</td>\n",
              "      <td>0.953000</td>\n",
              "    </tr>\n",
              "  </tbody>\n",
              "</table>\n",
              "</div>\n",
              "    <div class=\"colab-df-buttons\">\n",
              "\n",
              "  <div class=\"colab-df-container\">\n",
              "    <button class=\"colab-df-convert\" onclick=\"convertToInteractive('df-8f299de4-80e7-4806-a533-e645e442113c')\"\n",
              "            title=\"Convert this dataframe to an interactive table.\"\n",
              "            style=\"display:none;\">\n",
              "\n",
              "  <svg xmlns=\"http://www.w3.org/2000/svg\" height=\"24px\" viewBox=\"0 -960 960 960\">\n",
              "    <path d=\"M120-120v-720h720v720H120Zm60-500h600v-160H180v160Zm220 220h160v-160H400v160Zm0 220h160v-160H400v160ZM180-400h160v-160H180v160Zm440 0h160v-160H620v160ZM180-180h160v-160H180v160Zm440 0h160v-160H620v160Z\"/>\n",
              "  </svg>\n",
              "    </button>\n",
              "\n",
              "  <style>\n",
              "    .colab-df-container {\n",
              "      display:flex;\n",
              "      gap: 12px;\n",
              "    }\n",
              "\n",
              "    .colab-df-convert {\n",
              "      background-color: #E8F0FE;\n",
              "      border: none;\n",
              "      border-radius: 50%;\n",
              "      cursor: pointer;\n",
              "      display: none;\n",
              "      fill: #1967D2;\n",
              "      height: 32px;\n",
              "      padding: 0 0 0 0;\n",
              "      width: 32px;\n",
              "    }\n",
              "\n",
              "    .colab-df-convert:hover {\n",
              "      background-color: #E2EBFA;\n",
              "      box-shadow: 0px 1px 2px rgba(60, 64, 67, 0.3), 0px 1px 3px 1px rgba(60, 64, 67, 0.15);\n",
              "      fill: #174EA6;\n",
              "    }\n",
              "\n",
              "    .colab-df-buttons div {\n",
              "      margin-bottom: 4px;\n",
              "    }\n",
              "\n",
              "    [theme=dark] .colab-df-convert {\n",
              "      background-color: #3B4455;\n",
              "      fill: #D2E3FC;\n",
              "    }\n",
              "\n",
              "    [theme=dark] .colab-df-convert:hover {\n",
              "      background-color: #434B5C;\n",
              "      box-shadow: 0px 1px 3px 1px rgba(0, 0, 0, 0.15);\n",
              "      filter: drop-shadow(0px 1px 2px rgba(0, 0, 0, 0.3));\n",
              "      fill: #FFFFFF;\n",
              "    }\n",
              "  </style>\n",
              "\n",
              "    <script>\n",
              "      const buttonEl =\n",
              "        document.querySelector('#df-8f299de4-80e7-4806-a533-e645e442113c button.colab-df-convert');\n",
              "      buttonEl.style.display =\n",
              "        google.colab.kernel.accessAllowed ? 'block' : 'none';\n",
              "\n",
              "      async function convertToInteractive(key) {\n",
              "        const element = document.querySelector('#df-8f299de4-80e7-4806-a533-e645e442113c');\n",
              "        const dataTable =\n",
              "          await google.colab.kernel.invokeFunction('convertToInteractive',\n",
              "                                                    [key], {});\n",
              "        if (!dataTable) return;\n",
              "\n",
              "        const docLinkHtml = 'Like what you see? Visit the ' +\n",
              "          '<a target=\"_blank\" href=https://colab.research.google.com/notebooks/data_table.ipynb>data table notebook</a>'\n",
              "          + ' to learn more about interactive tables.';\n",
              "        element.innerHTML = '';\n",
              "        dataTable['output_type'] = 'display_data';\n",
              "        await google.colab.output.renderOutput(dataTable, element);\n",
              "        const docLink = document.createElement('div');\n",
              "        docLink.innerHTML = docLinkHtml;\n",
              "        element.appendChild(docLink);\n",
              "      }\n",
              "    </script>\n",
              "  </div>\n",
              "\n",
              "\n",
              "<div id=\"df-1125b26b-e69c-4b4a-b4e0-889ba9ef9710\">\n",
              "  <button class=\"colab-df-quickchart\" onclick=\"quickchart('df-1125b26b-e69c-4b4a-b4e0-889ba9ef9710')\"\n",
              "            title=\"Suggest charts.\"\n",
              "            style=\"display:none;\">\n",
              "\n",
              "<svg xmlns=\"http://www.w3.org/2000/svg\" height=\"24px\"viewBox=\"0 0 24 24\"\n",
              "     width=\"24px\">\n",
              "    <g>\n",
              "        <path d=\"M19 3H5c-1.1 0-2 .9-2 2v14c0 1.1.9 2 2 2h14c1.1 0 2-.9 2-2V5c0-1.1-.9-2-2-2zM9 17H7v-7h2v7zm4 0h-2V7h2v10zm4 0h-2v-4h2v4z\"/>\n",
              "    </g>\n",
              "</svg>\n",
              "  </button>\n",
              "\n",
              "<style>\n",
              "  .colab-df-quickchart {\n",
              "      --bg-color: #E8F0FE;\n",
              "      --fill-color: #1967D2;\n",
              "      --hover-bg-color: #E2EBFA;\n",
              "      --hover-fill-color: #174EA6;\n",
              "      --disabled-fill-color: #AAA;\n",
              "      --disabled-bg-color: #DDD;\n",
              "  }\n",
              "\n",
              "  [theme=dark] .colab-df-quickchart {\n",
              "      --bg-color: #3B4455;\n",
              "      --fill-color: #D2E3FC;\n",
              "      --hover-bg-color: #434B5C;\n",
              "      --hover-fill-color: #FFFFFF;\n",
              "      --disabled-bg-color: #3B4455;\n",
              "      --disabled-fill-color: #666;\n",
              "  }\n",
              "\n",
              "  .colab-df-quickchart {\n",
              "    background-color: var(--bg-color);\n",
              "    border: none;\n",
              "    border-radius: 50%;\n",
              "    cursor: pointer;\n",
              "    display: none;\n",
              "    fill: var(--fill-color);\n",
              "    height: 32px;\n",
              "    padding: 0;\n",
              "    width: 32px;\n",
              "  }\n",
              "\n",
              "  .colab-df-quickchart:hover {\n",
              "    background-color: var(--hover-bg-color);\n",
              "    box-shadow: 0 1px 2px rgba(60, 64, 67, 0.3), 0 1px 3px 1px rgba(60, 64, 67, 0.15);\n",
              "    fill: var(--button-hover-fill-color);\n",
              "  }\n",
              "\n",
              "  .colab-df-quickchart-complete:disabled,\n",
              "  .colab-df-quickchart-complete:disabled:hover {\n",
              "    background-color: var(--disabled-bg-color);\n",
              "    fill: var(--disabled-fill-color);\n",
              "    box-shadow: none;\n",
              "  }\n",
              "\n",
              "  .colab-df-spinner {\n",
              "    border: 2px solid var(--fill-color);\n",
              "    border-color: transparent;\n",
              "    border-bottom-color: var(--fill-color);\n",
              "    animation:\n",
              "      spin 1s steps(1) infinite;\n",
              "  }\n",
              "\n",
              "  @keyframes spin {\n",
              "    0% {\n",
              "      border-color: transparent;\n",
              "      border-bottom-color: var(--fill-color);\n",
              "      border-left-color: var(--fill-color);\n",
              "    }\n",
              "    20% {\n",
              "      border-color: transparent;\n",
              "      border-left-color: var(--fill-color);\n",
              "      border-top-color: var(--fill-color);\n",
              "    }\n",
              "    30% {\n",
              "      border-color: transparent;\n",
              "      border-left-color: var(--fill-color);\n",
              "      border-top-color: var(--fill-color);\n",
              "      border-right-color: var(--fill-color);\n",
              "    }\n",
              "    40% {\n",
              "      border-color: transparent;\n",
              "      border-right-color: var(--fill-color);\n",
              "      border-top-color: var(--fill-color);\n",
              "    }\n",
              "    60% {\n",
              "      border-color: transparent;\n",
              "      border-right-color: var(--fill-color);\n",
              "    }\n",
              "    80% {\n",
              "      border-color: transparent;\n",
              "      border-right-color: var(--fill-color);\n",
              "      border-bottom-color: var(--fill-color);\n",
              "    }\n",
              "    90% {\n",
              "      border-color: transparent;\n",
              "      border-bottom-color: var(--fill-color);\n",
              "    }\n",
              "  }\n",
              "</style>\n",
              "\n",
              "  <script>\n",
              "    async function quickchart(key) {\n",
              "      const quickchartButtonEl =\n",
              "        document.querySelector('#' + key + ' button');\n",
              "      quickchartButtonEl.disabled = true;  // To prevent multiple clicks.\n",
              "      quickchartButtonEl.classList.add('colab-df-spinner');\n",
              "      try {\n",
              "        const charts = await google.colab.kernel.invokeFunction(\n",
              "            'suggestCharts', [key], {});\n",
              "      } catch (error) {\n",
              "        console.error('Error during call to suggestCharts:', error);\n",
              "      }\n",
              "      quickchartButtonEl.classList.remove('colab-df-spinner');\n",
              "      quickchartButtonEl.classList.add('colab-df-quickchart-complete');\n",
              "    }\n",
              "    (() => {\n",
              "      let quickchartButtonEl =\n",
              "        document.querySelector('#df-1125b26b-e69c-4b4a-b4e0-889ba9ef9710 button');\n",
              "      quickchartButtonEl.style.display =\n",
              "        google.colab.kernel.accessAllowed ? 'block' : 'none';\n",
              "    })();\n",
              "  </script>\n",
              "</div>\n",
              "    </div>\n",
              "  </div>\n"
            ]
          },
          "metadata": {},
          "execution_count": 31
        }
      ]
    },
    {
      "cell_type": "markdown",
      "source": [
        "1. Top 10 Countries with Highest Covid Cases"
      ],
      "metadata": {
        "id": "O6_SU-5K0wcH"
      }
    },
    {
      "cell_type": "code",
      "source": [
        "#Group the data by countries(location) and find sum of covid_cases\n",
        "countrywise_total_cases = df.groupby('location').sum()['total_cases']\n",
        "\n",
        "# Descending order sorting by countries\n",
        "countrywise_total_cases_sorted = countrywise_total_cases.sort_values(ascending=False)\n",
        "\n",
        "# Get the top 10 coutnries with the highest covid cases\n",
        "top_10_record = countrywise_total_cases_sorted.head(10)\n",
        "\n",
        "print(top_10_record)"
      ],
      "metadata": {
        "colab": {
          "base_uri": "https://localhost:8080/"
        },
        "id": "ifkyJfTx7CQM",
        "outputId": "0128fbe7-526d-49e8-b81e-e3075d13ee8e"
      },
      "execution_count": null,
      "outputs": [
        {
          "output_type": "stream",
          "name": "stdout",
          "text": [
            "location\n",
            "United States     746014098.0\n",
            "Brazil            425704517.0\n",
            "India             407771615.0\n",
            "Russia            132888951.0\n",
            "Peru               74882695.0\n",
            "Mexico             74347548.0\n",
            "Spain              73717676.0\n",
            "South Africa       63027659.0\n",
            "Colombia           60543682.0\n",
            "United Kingdom     59475032.0\n",
            "Name: total_cases, dtype: float64\n"
          ]
        },
        {
          "output_type": "stream",
          "name": "stderr",
          "text": [
            "<ipython-input-32-ff481e440b02>:2: FutureWarning: The default value of numeric_only in DataFrameGroupBy.sum is deprecated. In a future version, numeric_only will default to False. Either specify numeric_only or select only columns which should be valid for the function.\n",
            "  countrywise_total_cases = df.groupby('location').sum()['total_cases']\n"
          ]
        }
      ]
    },
    {
      "cell_type": "markdown",
      "source": [
        "2. Top 10 Countries with Lowest Covid Cases"
      ],
      "metadata": {
        "id": "Ndq-x1Za_zaC"
      }
    },
    {
      "cell_type": "code",
      "source": [
        "#Group the data by countries(location) and find sum of covid_cases)\n",
        "countrywise_total_cases = df.groupby('location').sum()['total_cases']\n",
        "\n",
        "# ascending order sorting by countries\n",
        "countrywise_total_cases_sorted = countrywise_total_cases.sort_values(ascending=True)\n",
        "\n",
        "# Get the top 10 coutnries with the lowest covid cases\n",
        "lowestcases_top_10_record = countrywise_total_cases_sorted.head(10)\n",
        "\n",
        "print(lowestcases_top_10_record)"
      ],
      "metadata": {
        "colab": {
          "base_uri": "https://localhost:8080/"
        },
        "id": "uR3ggbqm_3UF",
        "outputId": "fa485e51-826d-4326-905b-e3b1d3a893b9"
      },
      "execution_count": null,
      "outputs": [
        {
          "output_type": "stream",
          "name": "stdout",
          "text": [
            "location\n",
            "Hong Kong                   0.0\n",
            "Solomon Islands            11.0\n",
            "Anguilla                  614.0\n",
            "Montserrat               2383.0\n",
            "Vatican                  2415.0\n",
            "Falkland Islands         2467.0\n",
            "Greenland                2678.0\n",
            "Saint Kitts and Nevis    3246.0\n",
            "Dominica                 3977.0\n",
            "Laos                     4039.0\n",
            "Name: total_cases, dtype: float64\n"
          ]
        },
        {
          "output_type": "stream",
          "name": "stderr",
          "text": [
            "<ipython-input-33-dfb0041502eb>:2: FutureWarning: The default value of numeric_only in DataFrameGroupBy.sum is deprecated. In a future version, numeric_only will default to False. Either specify numeric_only or select only columns which should be valid for the function.\n",
            "  countrywise_total_cases = df.groupby('location').sum()['total_cases']\n"
          ]
        }
      ]
    },
    {
      "cell_type": "markdown",
      "source": [
        "3. Total number of deaths among the countries with the highest number of COVID-19 cases"
      ],
      "metadata": {
        "id": "kn92qwvSAe7n"
      }
    },
    {
      "cell_type": "code",
      "source": [
        "# sort the DataFrame by the number of cases in descending order\n",
        "sorted_by_total_cases = df.sort_values(by='total_cases', ascending=False)\n",
        "\n",
        "# select top 10 countries\n",
        "top_countries = sorted_by_total_cases.head(10)\n",
        "\n",
        "# count total number of deaths for those 10 countries\n",
        "total_deaths = top_countries['total_deaths'].sum()\n",
        "\n",
        "print(total_deaths)\n"
      ],
      "metadata": {
        "colab": {
          "base_uri": "https://localhost:8080/"
        },
        "id": "xgslqh-iEWPf",
        "outputId": "04ab230b-8832-47be-915f-e26a8a3cfc48"
      },
      "execution_count": null,
      "outputs": [
        {
          "output_type": "stream",
          "name": "stdout",
          "text": [
            "2166056.0\n"
          ]
        }
      ]
    },
    {
      "cell_type": "markdown",
      "source": [
        "4.Percentage of total deaths and total cases among all the\n",
        "countries with the highest number of covid-19 cases"
      ],
      "metadata": {
        "id": "hU2BATKdemvN"
      }
    },
    {
      "cell_type": "code",
      "source": [
        "#sort the DataFrame by the number of cases in descending order\n",
        "sorted_by_total_cases=df.sort_values(by='total_cases',ascending=False)\n",
        "\n",
        "#Sum of cases and deaths\n",
        "total_cases=df['total_cases'].sum()\n",
        "total_deaths=df['total_deaths'].sum()\n",
        "\n",
        "#Percentage of total deaths and total cases\n",
        "total_deaths_percent=(total_deaths / total_cases)*100\n",
        "total_cases_percent=100-total_deaths_percent\n",
        "\n",
        "print(f\"Percentage of total deaths: {total_deaths_percent:.2f}%\")\n",
        "print(f\"Percentage of total cases: {total_cases_percent:.2f}%\")\n",
        "\n"
      ],
      "metadata": {
        "colab": {
          "base_uri": "https://localhost:8080/"
        },
        "id": "aZcjPWkWelGb",
        "outputId": "3828be43-ec41-46de-e2c3-04eca3f2eb88"
      },
      "execution_count": null,
      "outputs": [
        {
          "output_type": "stream",
          "name": "stdout",
          "text": [
            "Percentage of total deaths: 3.73%\n",
            "Percentage of total cases: 96.27%\n"
          ]
        }
      ]
    },
    {
      "cell_type": "markdown",
      "source": [
        "5.calculate the death rate of Covid-19 cases"
      ],
      "metadata": {
        "id": "yJaqY3UdosLs"
      }
    },
    {
      "cell_type": "code",
      "source": [
        "#calculate death rate\n",
        "df['death_rate']=(df['total_deaths'] /df['total_cases'])*100\n",
        "print(df['death_rate'])"
      ],
      "metadata": {
        "colab": {
          "base_uri": "https://localhost:8080/"
        },
        "id": "fHCwqXWqe2Cz",
        "outputId": "14f517b5-eb6d-410b-9b59-e9798f763e47"
      },
      "execution_count": null,
      "outputs": [
        {
          "output_type": "stream",
          "name": "stdout",
          "text": [
            "0             NaN\n",
            "1             NaN\n",
            "2             NaN\n",
            "3             NaN\n",
            "4             NaN\n",
            "           ...   \n",
            "50413    2.867784\n",
            "50414    2.860681\n",
            "50415    2.852204\n",
            "50416    2.848335\n",
            "50417    2.835400\n",
            "Name: death_rate, Length: 50418, dtype: float64\n"
          ]
        }
      ]
    },
    {
      "cell_type": "markdown",
      "source": [
        "6.Country Wise stringency index"
      ],
      "metadata": {
        "id": "QnffiGM0rhPC"
      }
    },
    {
      "cell_type": "code",
      "source": [
        "#count country wise stringency index\n",
        "stringency_indx=df.groupby('location').sum() ['stringency_index']\n",
        "#stringency_indx_sorted=stringency_indx.sort_values(ascending=True)\n",
        "print(stringency_indx)"
      ],
      "metadata": {
        "colab": {
          "base_uri": "https://localhost:8080/"
        },
        "id": "iukNmTSSreWc",
        "outputId": "68cffe39-6d48-40c9-8159-5a46255e43e6"
      },
      "execution_count": null,
      "outputs": [
        {
          "output_type": "stream",
          "name": "stdout",
          "text": [
            "location\n",
            "Afghanistan    14545.478309\n",
            "Albania        15082.248309\n",
            "Algeria        16634.946177\n",
            "Andorra         9873.354265\n",
            "Angola         16263.852243\n",
            "                   ...     \n",
            "Venezuela      18195.348088\n",
            "Vietnam        16644.472022\n",
            "Yemen           8566.874155\n",
            "Zambia         10573.018309\n",
            "Zimbabwe       16864.760000\n",
            "Name: stringency_index, Length: 210, dtype: float64\n"
          ]
        },
        {
          "output_type": "stream",
          "name": "stderr",
          "text": [
            "<ipython-input-39-c964bf656b15>:2: FutureWarning: The default value of numeric_only in DataFrameGroupBy.sum is deprecated. In a future version, numeric_only will default to False. Either specify numeric_only or select only columns which should be valid for the function.\n",
            "  stringency_indx=df.groupby('location').sum() ['stringency_index']\n"
          ]
        }
      ]
    },
    {
      "cell_type": "markdown",
      "source": [
        "7. Date Wise Corona Cases."
      ],
      "metadata": {
        "id": "XOzx7RHQuC_O"
      }
    },
    {
      "cell_type": "code",
      "source": [
        "#count date wise corona cases\n",
        "corona_cases=df.groupby('date').sum() ['total_cases']\n",
        "print(corona_cases)"
      ],
      "metadata": {
        "colab": {
          "base_uri": "https://localhost:8080/"
        },
        "id": "2CjUeRyDuFfc",
        "outputId": "4b868c4d-aa9c-4a07-f1e1-f7a2be2a3aaa"
      },
      "execution_count": null,
      "outputs": [
        {
          "output_type": "stream",
          "name": "stdout",
          "text": [
            "date\n",
            "2019-12-31          27.0\n",
            "2020-01-01          27.0\n",
            "2020-01-02          27.0\n",
            "2020-01-03          44.0\n",
            "2020-01-04          44.0\n",
            "                 ...    \n",
            "2020-10-15    38643686.0\n",
            "2020-10-16    39040423.0\n",
            "2020-10-17    39320884.0\n",
            "2020-10-18    39459989.0\n",
            "2020-10-19    38843583.0\n",
            "Name: total_cases, Length: 294, dtype: float64\n"
          ]
        },
        {
          "output_type": "stream",
          "name": "stderr",
          "text": [
            "<ipython-input-40-d5e95e7c01e7>:2: FutureWarning: The default value of numeric_only in DataFrameGroupBy.sum is deprecated. In a future version, numeric_only will default to False. Either specify numeric_only or select only columns which should be valid for the function.\n",
            "  corona_cases=df.groupby('date').sum() ['total_cases']\n"
          ]
        }
      ]
    },
    {
      "cell_type": "markdown",
      "source": [
        "8. Monthly Death Vs Corona Cases."
      ],
      "metadata": {
        "id": "nRRx1LGaumCb"
      }
    },
    {
      "cell_type": "code",
      "source": [
        "#count month wise corona deaths\n",
        "df['month'] = pd.DatetimeIndex(df['date']).month\n",
        "corona_deaths=df.groupby('month').sum() ['total_deaths']\n",
        "print(corona_deaths)\n",
        "\n",
        "#count monthly corona cases\n",
        "df['month']=pd.DatetimeIndex(df['date']).month\n",
        "corona_cases=df.groupby('month').sum() ['total_cases']\n",
        "print(corona_cases)"
      ],
      "metadata": {
        "id": "pJlJEOjQsXjT",
        "colab": {
          "base_uri": "https://localhost:8080/"
        },
        "outputId": "55cf101d-23f9-47bb-8efe-a30df2982d1c"
      },
      "execution_count": null,
      "outputs": [
        {
          "output_type": "stream",
          "name": "stdout",
          "text": [
            "month\n",
            "1          883.0\n",
            "2        45060.0\n",
            "3       354135.0\n",
            "4      4075764.0\n",
            "5      9412362.0\n",
            "6     13074499.0\n",
            "7     18090217.0\n",
            "8     23632021.0\n",
            "9     27975297.0\n",
            "10    20190866.0\n",
            "12           0.0\n",
            "Name: total_deaths, dtype: float64\n",
            "month\n",
            "1         38431.0\n",
            "2       1621911.0\n",
            "3       8463009.0\n",
            "4      60557941.0\n",
            "5     141060938.0\n",
            "6     241865375.0\n",
            "7     425205604.0\n",
            "8     665177183.0\n",
            "9     888284228.0\n",
            "10    701486309.0\n",
            "12           27.0\n",
            "Name: total_cases, dtype: float64\n"
          ]
        },
        {
          "output_type": "stream",
          "name": "stderr",
          "text": [
            "<ipython-input-42-8451f9761e45>:3: FutureWarning: The default value of numeric_only in DataFrameGroupBy.sum is deprecated. In a future version, numeric_only will default to False. Either specify numeric_only or select only columns which should be valid for the function.\n",
            "  corona_deaths=df.groupby('month').sum() ['total_deaths']\n",
            "<ipython-input-42-8451f9761e45>:8: FutureWarning: The default value of numeric_only in DataFrameGroupBy.sum is deprecated. In a future version, numeric_only will default to False. Either specify numeric_only or select only columns which should be valid for the function.\n",
            "  corona_cases=df.groupby('month').sum() ['total_cases']\n"
          ]
        }
      ]
    },
    {
      "cell_type": "markdown",
      "source": [
        "9. Country Wise First Case."
      ],
      "metadata": {
        "id": "dInrCR3ruqx9"
      }
    },
    {
      "cell_type": "code",
      "source": [
        "#creating filter to exclude 0 cases\n",
        "filter = df[df['total_cases'] > 0]\n",
        "\n",
        "# Group data by country and find date when first case was found in each country\n",
        "countrywise_first_case = filter.groupby('location')['date'].min().reset_index()\n",
        "\n",
        "# Print the result\n",
        "print(countrywise_first_case)\n",
        "\n",
        "\n",
        "\n"
      ],
      "metadata": {
        "colab": {
          "base_uri": "https://localhost:8080/"
        },
        "id": "7K_SVudXu10h",
        "outputId": "30aad66c-cb71-4b1e-c961-dcb0ae2e7f01"
      },
      "execution_count": null,
      "outputs": [
        {
          "output_type": "stream",
          "name": "stdout",
          "text": [
            "        location       date\n",
            "0    Afghanistan 2020-02-25\n",
            "1        Albania 2020-03-09\n",
            "2        Algeria 2020-02-26\n",
            "3        Andorra 2020-03-03\n",
            "4         Angola 2020-03-22\n",
            "..           ...        ...\n",
            "204    Venezuela 2020-03-15\n",
            "205      Vietnam 2020-01-24\n",
            "206        Yemen 2020-04-10\n",
            "207       Zambia 2020-03-19\n",
            "208     Zimbabwe 2020-03-21\n",
            "\n",
            "[209 rows x 2 columns]\n"
          ]
        }
      ]
    },
    {
      "cell_type": "markdown",
      "source": [
        "10. Worldwide Total Cases Vs Total Death"
      ],
      "metadata": {
        "id": "84KsQpbWxAqs"
      }
    },
    {
      "cell_type": "code",
      "source": [
        "#Worldwide Sum of corona cases and deaths\n",
        "total_cases_all=df['total_cases'].sum()\n",
        "total_deaths_all=df['total_deaths'].sum()\n",
        "\n",
        "print(f\"Worldwide total cases are: {total_cases_all:.0f}\")\n",
        "print(f\"Worldwide total deaths are: {total_deaths_all:.0f}\")\n",
        "\n",
        "\n"
      ],
      "metadata": {
        "colab": {
          "base_uri": "https://localhost:8080/"
        },
        "id": "Sd_WobbdxC0p",
        "outputId": "4d99e85a-cb87-40e2-aea1-5fadead0bf7b"
      },
      "execution_count": null,
      "outputs": [
        {
          "output_type": "stream",
          "name": "stdout",
          "text": [
            "Worldwide total cases are: 3133760956\n",
            "Worldwide total deaths are: 116851104\n"
          ]
        }
      ]
    },
    {
      "cell_type": "markdown",
      "source": [
        "**3. analyze the impacts of covid-19 on the economy**"
      ],
      "metadata": {
        "id": "yX0cvDbe2uYV"
      }
    },
    {
      "cell_type": "markdown",
      "source": [
        "a) GDP per capita is the primary factor for analyzing the\n",
        "economic slowdowns caused due to the outbreak of\n",
        "covid-19."
      ],
      "metadata": {
        "id": "4C4kpwxK21Fq"
      }
    },
    {
      "cell_type": "markdown",
      "source": [
        "From the below graph it can be seen that there was a significanr changes in GDP per capita from the month of January to March when the Covid-19 was at the peak thereafter,it remained constant."
      ],
      "metadata": {
        "id": "5TVTTooGver2"
      }
    },
    {
      "cell_type": "code",
      "source": [
        "df['gdp_per_capita_Pct_Change'] = (df['gdp_per_capita'] - df['gdp_per_capita'].shift(1)) / df['gdp_per_capita'].shift(1) * 100\n",
        "\n",
        "# Create a summary to see the impact of COVID-19 on GDP per capita\n",
        "summary = df.groupby('date')['gdp_per_capita_Pct_Change'].mean().reset_index()\n",
        "\n",
        "\n",
        "# Plot the impact over time\n",
        "\n",
        "plt.figure(figsize=(8, 6))\n",
        "plt.plot(summary['date'], summary['gdp_per_capita_Pct_Change'],color=\"Green\")\n",
        "plt.title('Impact of COVID-19 on GDP per Capita')\n",
        "plt.xlabel('Date')\n",
        "plt.ylabel('GDP Per Capita Percentage Change')\n",
        "plt.grid()\n",
        "plt.show()"
      ],
      "metadata": {
        "colab": {
          "base_uri": "https://localhost:8080/",
          "height": 564
        },
        "id": "TgdSIJMln0Qm",
        "outputId": "9aa51481-d27f-44c6-a874-54135e3566e8"
      },
      "execution_count": null,
      "outputs": [
        {
          "output_type": "display_data",
          "data": {
            "text/plain": [
              "<Figure size 800x600 with 1 Axes>"
            ],
            "image/png": "[encoded data removed]"
          },
          "metadata": {}
        }
      ]
    },
    {
      "cell_type": "markdown",
      "source": [
        "b)GDP per capita during the rise in the cases of covid-19"
      ],
      "metadata": {
        "id": "SbILcp7P3CNN"
      }
    },
    {
      "cell_type": "code",
      "source": [
        "# Sort the data by year\n",
        "data = df.sort_values(by='date')\n",
        "\n",
        "# Calculate the percentage change in COVID-19 cases from the previous year\n",
        "df['Cases Growth Rate'] = data['total_cases'].pct_change()\n",
        "\n",
        "# Plot GDP per capita and COVID-19 cases growth rate over time\n",
        "plt.figure(figsize=(12, 6))\n",
        "plt.plot(df['date'], df['gdp_per_capita'], label='GDP per Capita', color='blue')\n",
        "plt.plot(df['date'], df['Cases Growth Rate'] * 100, label='Cases Growth Rate (%)', color='yellow')\n",
        "plt.xlabel('Date')\n",
        "plt.ylabel('GDP per Capita / Cases Growth Rate (%)')\n",
        "plt.title('GDP per Capita vs. COVID-19 Cases Growth Rate')\n",
        "plt.grid()\n",
        "plt.show()"
      ],
      "metadata": {
        "colab": {
          "base_uri": "https://localhost:8080/",
          "height": 564
        },
        "id": "WFHgN3ipvFOt",
        "outputId": "7c8ee44f-d548-47b7-9926-3050bd58102a"
      },
      "execution_count": null,
      "outputs": [
        {
          "output_type": "display_data",
          "data": {
            "text/plain": [
              "<Figure size 1200x600 with 1 Axes>"
            ],
            "image/png": "[encoded data removed]"
          },
          "metadata": {}
        }
      ]
    },
    {
      "cell_type": "markdown",
      "source": [
        "when the covid was at the peak the flattened line in the graph shows the gdp remained constant as the covid-19 shutdowns caused business closures,job closures,travel ban etc."
      ],
      "metadata": {
        "id": "QDNaCq2SL3PY"
      }
    },
    {
      "cell_type": "markdown",
      "source": [
        "c)GDP per capita before covid-19 and during covid-19"
      ],
      "metadata": {
        "id": "li_kb1fq3K5l"
      }
    },
    {
      "cell_type": "code",
      "source": [
        "before_covid = df[df['date'] < '2020-01-01']\n",
        "during_covid = df[df['date'] >= '2020-01-01']\n",
        "\n",
        "mean_gdp_before_covid = before_covid['gdp_per_capita'].mean()\n",
        "median_gdp_before_covid = before_covid['gdp_per_capita'].median()\n",
        "\n",
        "mean_gdp_during_covid = during_covid['gdp_per_capita'].mean()\n",
        "median_gdp_during_covid = during_covid['gdp_per_capita'].median()\n",
        "\n",
        "print(f\"Mean GDP per capita before COVID-19: {mean_gdp_before_covid}\")\n",
        "print(f\"Median GDP per capita before COVID-19: {median_gdp_before_covid}\")\n",
        "print(f\"Mean GDP per capita during COVID-19: {mean_gdp_during_covid}\")\n",
        "print(f\"Median GDP per capita during COVID-19: {median_gdp_during_covid}\")\n",
        "\n",
        "plt.figure(figsize=(10, 6))\n",
        "plt.bar(['Before COVID-19', 'During COVID-19'], [mean_gdp_before_covid, mean_gdp_during_covid])\n",
        "plt.title('Mean GDP per Capita Before and During COVID-19')\n",
        "plt.ylabel('GDP per Capita')\n",
        "plt.show()"
      ],
      "metadata": {
        "colab": {
          "base_uri": "https://localhost:8080/",
          "height": 614
        },
        "id": "bLPvF56YwFhp",
        "outputId": "32e6adba-8c40-4526-95a4-db15b6bf45c9"
      },
      "execution_count": null,
      "outputs": [
        {
          "output_type": "stream",
          "name": "stdout",
          "text": [
            "Mean GDP per capita before COVID-19: 31769.367583023908\n",
            "Median GDP per capita before COVID-19: 28144.708\n",
            "Mean GDP per capita during COVID-19: 20804.352417723116\n",
            "Median GDP per capita during COVID-19: 16409.288\n"
          ]
        },
        {
          "output_type": "display_data",
          "data": {
            "text/plain": [
              "<Figure size 1000x600 with 1 Axes>"
            ],
            "image/png": "[encoded data removed]"
          },
          "metadata": {}
        }
      ]
    },
    {
      "cell_type": "markdown",
      "source": [
        "As we can see in above visualization,when covid was not started,gdp per capita was at a good standing and during Covid-19 there was a sudden decrease in the GDP per capita.It almost went to almost 30% down then the before covid time."
      ],
      "metadata": {
        "id": "Jx0m9XxDMLXQ"
      }
    },
    {
      "cell_type": "markdown",
      "source": [
        "d)Correlation Between GDPCAP and Human Development Index"
      ],
      "metadata": {
        "id": "8qG-NK733NCU"
      }
    },
    {
      "cell_type": "code",
      "source": [
        "correlation = df['gdp_per_capita'].corr(df['human_development_index'])\n",
        "plt.scatter(df['gdp_per_capita'], df['human_development_index'],color='red')\n",
        "plt.title('Correlation Between GDPCAP and HDI')\n",
        "plt.xlabel('GDP_per_capita')\n",
        "plt.ylabel('HDI')\n",
        "plt.show()\n"
      ],
      "metadata": {
        "colab": {
          "base_uri": "https://localhost:8080/",
          "height": 472
        },
        "id": "we7Q-_1jx8F8",
        "outputId": "1a28c2ce-466a-41bc-8b04-a131abf6065d"
      },
      "execution_count": null,
      "outputs": [
        {
          "output_type": "display_data",
          "data": {
            "text/plain": [
              "<Figure size 640x480 with 1 Axes>"
            ],
            "image/png": "[encoded data removed]"
          },
          "metadata": {}
        }
      ]
    },
    {
      "cell_type": "markdown",
      "source": [
        "It can be seen that when the gdp was lower,human development index was higher so,gdp per capita and human development index is positively co-related."
      ],
      "metadata": {
        "id": "zBRLkItxy-oY"
      }
    }
  ]
}